{
  "nbformat": 4,
  "nbformat_minor": 0,
  "metadata": {
    "colab": {
      "provenance": [],
      "collapsed_sections": [
        "0ErKyQPyc4oh",
        "mZWIsIteUh2k",
        "QouKU3GB0zOP",
        "oDmZei3K7RFt",
        "HYgD5q5idp0N",
        "qqpJTkwINDUk"
      ]
    },
    "kernelspec": {
      "name": "python3",
      "display_name": "Python 3"
    },
    "language_info": {
      "name": "python"
    }
  },
  "cells": [
    {
      "cell_type": "code",
      "execution_count": 61,
      "metadata": {
        "id": "-QR7xcC-yPN2"
      },
      "outputs": [],
      "source": [
        "# importing libraries\n",
        "\n",
        "import numpy as np\n",
        "import pandas as pd\n",
        "import seaborn as sns\n",
        "import matplotlib.pyplot as plt"
      ]
    },
    {
      "cell_type": "code",
      "source": [
        "# mounting drive\n",
        "\n",
        "from google.colab import drive\n",
        "drive.mount('/content/drive')"
      ],
      "metadata": {
        "colab": {
          "base_uri": "https://localhost:8080/",
          "height": 0
        },
        "id": "Spqqs8Bnz-l3",
        "outputId": "e50ef733-394f-48dd-cb4d-bfa350237561"
      },
      "execution_count": 62,
      "outputs": [
        {
          "output_type": "stream",
          "name": "stdout",
          "text": [
            "Drive already mounted at /content/drive; to attempt to forcibly remount, call drive.mount(\"/content/drive\", force_remount=True).\n"
          ]
        }
      ]
    },
    {
      "cell_type": "code",
      "source": [
        "# importing train and test datasets from drive\n",
        "\n",
        "bod = pd.read_csv(\"/content/drive/MyDrive/train_BOD.csv\")\n",
        "bodt = pd.read_csv(\"/content/drive/MyDrive/test_BOD.csv\")"
      ],
      "metadata": {
        "id": "pi6HFebTz_Be"
      },
      "execution_count": 63,
      "outputs": []
    },
    {
      "cell_type": "code",
      "source": [
        "# print the test dataset\n",
        "\n",
        "bod"
      ],
      "metadata": {
        "colab": {
          "base_uri": "https://localhost:8080/",
          "height": 423
        },
        "id": "vgq178tgz_xI",
        "outputId": "0c6b7e5a-4144-4c09-a0e9-f96035e094f2"
      },
      "execution_count": 64,
      "outputs": [
        {
          "output_type": "execute_result",
          "data": {
            "text/plain": [
              "      Id  target     1     2   3   4   5   6   7\n",
              "0      0    5.85  4.80  5.85 NaN NaN NaN NaN NaN\n",
              "1      3    4.28  5.88  6.84 NaN NaN NaN NaN NaN\n",
              "2      4    3.97  3.20  2.70 NaN NaN NaN NaN NaN\n",
              "3      5    5.95  7.70  7.06 NaN NaN NaN NaN NaN\n",
              "4      6    4.70  5.50  5.30 NaN NaN NaN NaN NaN\n",
              "..   ...     ...   ...   ...  ..  ..  ..  ..  ..\n",
              "142  208    2.20  5.00  5.80 NaN NaN NaN NaN NaN\n",
              "143  211    5.60  8.00  8.00 NaN NaN NaN NaN NaN\n",
              "144  212    6.00  6.80  7.20 NaN NaN NaN NaN NaN\n",
              "145  213    8.00  5.20  7.80 NaN NaN NaN NaN NaN\n",
              "146  214    3.10  3.40  4.10 NaN NaN NaN NaN NaN\n",
              "\n",
              "[147 rows x 9 columns]"
            ],
            "text/html": [
              "\n",
              "  <div id=\"df-e410a755-e247-4c40-a504-500daca7ebe1\">\n",
              "    <div class=\"colab-df-container\">\n",
              "      <div>\n",
              "<style scoped>\n",
              "    .dataframe tbody tr th:only-of-type {\n",
              "        vertical-align: middle;\n",
              "    }\n",
              "\n",
              "    .dataframe tbody tr th {\n",
              "        vertical-align: top;\n",
              "    }\n",
              "\n",
              "    .dataframe thead th {\n",
              "        text-align: right;\n",
              "    }\n",
              "</style>\n",
              "<table border=\"1\" class=\"dataframe\">\n",
              "  <thead>\n",
              "    <tr style=\"text-align: right;\">\n",
              "      <th></th>\n",
              "      <th>Id</th>\n",
              "      <th>target</th>\n",
              "      <th>1</th>\n",
              "      <th>2</th>\n",
              "      <th>3</th>\n",
              "      <th>4</th>\n",
              "      <th>5</th>\n",
              "      <th>6</th>\n",
              "      <th>7</th>\n",
              "    </tr>\n",
              "  </thead>\n",
              "  <tbody>\n",
              "    <tr>\n",
              "      <th>0</th>\n",
              "      <td>0</td>\n",
              "      <td>5.85</td>\n",
              "      <td>4.80</td>\n",
              "      <td>5.85</td>\n",
              "      <td>NaN</td>\n",
              "      <td>NaN</td>\n",
              "      <td>NaN</td>\n",
              "      <td>NaN</td>\n",
              "      <td>NaN</td>\n",
              "    </tr>\n",
              "    <tr>\n",
              "      <th>1</th>\n",
              "      <td>3</td>\n",
              "      <td>4.28</td>\n",
              "      <td>5.88</td>\n",
              "      <td>6.84</td>\n",
              "      <td>NaN</td>\n",
              "      <td>NaN</td>\n",
              "      <td>NaN</td>\n",
              "      <td>NaN</td>\n",
              "      <td>NaN</td>\n",
              "    </tr>\n",
              "    <tr>\n",
              "      <th>2</th>\n",
              "      <td>4</td>\n",
              "      <td>3.97</td>\n",
              "      <td>3.20</td>\n",
              "      <td>2.70</td>\n",
              "      <td>NaN</td>\n",
              "      <td>NaN</td>\n",
              "      <td>NaN</td>\n",
              "      <td>NaN</td>\n",
              "      <td>NaN</td>\n",
              "    </tr>\n",
              "    <tr>\n",
              "      <th>3</th>\n",
              "      <td>5</td>\n",
              "      <td>5.95</td>\n",
              "      <td>7.70</td>\n",
              "      <td>7.06</td>\n",
              "      <td>NaN</td>\n",
              "      <td>NaN</td>\n",
              "      <td>NaN</td>\n",
              "      <td>NaN</td>\n",
              "      <td>NaN</td>\n",
              "    </tr>\n",
              "    <tr>\n",
              "      <th>4</th>\n",
              "      <td>6</td>\n",
              "      <td>4.70</td>\n",
              "      <td>5.50</td>\n",
              "      <td>5.30</td>\n",
              "      <td>NaN</td>\n",
              "      <td>NaN</td>\n",
              "      <td>NaN</td>\n",
              "      <td>NaN</td>\n",
              "      <td>NaN</td>\n",
              "    </tr>\n",
              "    <tr>\n",
              "      <th>...</th>\n",
              "      <td>...</td>\n",
              "      <td>...</td>\n",
              "      <td>...</td>\n",
              "      <td>...</td>\n",
              "      <td>...</td>\n",
              "      <td>...</td>\n",
              "      <td>...</td>\n",
              "      <td>...</td>\n",
              "      <td>...</td>\n",
              "    </tr>\n",
              "    <tr>\n",
              "      <th>142</th>\n",
              "      <td>208</td>\n",
              "      <td>2.20</td>\n",
              "      <td>5.00</td>\n",
              "      <td>5.80</td>\n",
              "      <td>NaN</td>\n",
              "      <td>NaN</td>\n",
              "      <td>NaN</td>\n",
              "      <td>NaN</td>\n",
              "      <td>NaN</td>\n",
              "    </tr>\n",
              "    <tr>\n",
              "      <th>143</th>\n",
              "      <td>211</td>\n",
              "      <td>5.60</td>\n",
              "      <td>8.00</td>\n",
              "      <td>8.00</td>\n",
              "      <td>NaN</td>\n",
              "      <td>NaN</td>\n",
              "      <td>NaN</td>\n",
              "      <td>NaN</td>\n",
              "      <td>NaN</td>\n",
              "    </tr>\n",
              "    <tr>\n",
              "      <th>144</th>\n",
              "      <td>212</td>\n",
              "      <td>6.00</td>\n",
              "      <td>6.80</td>\n",
              "      <td>7.20</td>\n",
              "      <td>NaN</td>\n",
              "      <td>NaN</td>\n",
              "      <td>NaN</td>\n",
              "      <td>NaN</td>\n",
              "      <td>NaN</td>\n",
              "    </tr>\n",
              "    <tr>\n",
              "      <th>145</th>\n",
              "      <td>213</td>\n",
              "      <td>8.00</td>\n",
              "      <td>5.20</td>\n",
              "      <td>7.80</td>\n",
              "      <td>NaN</td>\n",
              "      <td>NaN</td>\n",
              "      <td>NaN</td>\n",
              "      <td>NaN</td>\n",
              "      <td>NaN</td>\n",
              "    </tr>\n",
              "    <tr>\n",
              "      <th>146</th>\n",
              "      <td>214</td>\n",
              "      <td>3.10</td>\n",
              "      <td>3.40</td>\n",
              "      <td>4.10</td>\n",
              "      <td>NaN</td>\n",
              "      <td>NaN</td>\n",
              "      <td>NaN</td>\n",
              "      <td>NaN</td>\n",
              "      <td>NaN</td>\n",
              "    </tr>\n",
              "  </tbody>\n",
              "</table>\n",
              "<p>147 rows × 9 columns</p>\n",
              "</div>\n",
              "      <button class=\"colab-df-convert\" onclick=\"convertToInteractive('df-e410a755-e247-4c40-a504-500daca7ebe1')\"\n",
              "              title=\"Convert this dataframe to an interactive table.\"\n",
              "              style=\"display:none;\">\n",
              "        \n",
              "  <svg xmlns=\"http://www.w3.org/2000/svg\" height=\"24px\"viewBox=\"0 0 24 24\"\n",
              "       width=\"24px\">\n",
              "    <path d=\"M0 0h24v24H0V0z\" fill=\"none\"/>\n",
              "    <path d=\"M18.56 5.44l.94 2.06.94-2.06 2.06-.94-2.06-.94-.94-2.06-.94 2.06-2.06.94zm-11 1L8.5 8.5l.94-2.06 2.06-.94-2.06-.94L8.5 2.5l-.94 2.06-2.06.94zm10 10l.94 2.06.94-2.06 2.06-.94-2.06-.94-.94-2.06-.94 2.06-2.06.94z\"/><path d=\"M17.41 7.96l-1.37-1.37c-.4-.4-.92-.59-1.43-.59-.52 0-1.04.2-1.43.59L10.3 9.45l-7.72 7.72c-.78.78-.78 2.05 0 2.83L4 21.41c.39.39.9.59 1.41.59.51 0 1.02-.2 1.41-.59l7.78-7.78 2.81-2.81c.8-.78.8-2.07 0-2.86zM5.41 20L4 18.59l7.72-7.72 1.47 1.35L5.41 20z\"/>\n",
              "  </svg>\n",
              "      </button>\n",
              "      \n",
              "  <style>\n",
              "    .colab-df-container {\n",
              "      display:flex;\n",
              "      flex-wrap:wrap;\n",
              "      gap: 12px;\n",
              "    }\n",
              "\n",
              "    .colab-df-convert {\n",
              "      background-color: #E8F0FE;\n",
              "      border: none;\n",
              "      border-radius: 50%;\n",
              "      cursor: pointer;\n",
              "      display: none;\n",
              "      fill: #1967D2;\n",
              "      height: 32px;\n",
              "      padding: 0 0 0 0;\n",
              "      width: 32px;\n",
              "    }\n",
              "\n",
              "    .colab-df-convert:hover {\n",
              "      background-color: #E2EBFA;\n",
              "      box-shadow: 0px 1px 2px rgba(60, 64, 67, 0.3), 0px 1px 3px 1px rgba(60, 64, 67, 0.15);\n",
              "      fill: #174EA6;\n",
              "    }\n",
              "\n",
              "    [theme=dark] .colab-df-convert {\n",
              "      background-color: #3B4455;\n",
              "      fill: #D2E3FC;\n",
              "    }\n",
              "\n",
              "    [theme=dark] .colab-df-convert:hover {\n",
              "      background-color: #434B5C;\n",
              "      box-shadow: 0px 1px 3px 1px rgba(0, 0, 0, 0.15);\n",
              "      filter: drop-shadow(0px 1px 2px rgba(0, 0, 0, 0.3));\n",
              "      fill: #FFFFFF;\n",
              "    }\n",
              "  </style>\n",
              "\n",
              "      <script>\n",
              "        const buttonEl =\n",
              "          document.querySelector('#df-e410a755-e247-4c40-a504-500daca7ebe1 button.colab-df-convert');\n",
              "        buttonEl.style.display =\n",
              "          google.colab.kernel.accessAllowed ? 'block' : 'none';\n",
              "\n",
              "        async function convertToInteractive(key) {\n",
              "          const element = document.querySelector('#df-e410a755-e247-4c40-a504-500daca7ebe1');\n",
              "          const dataTable =\n",
              "            await google.colab.kernel.invokeFunction('convertToInteractive',\n",
              "                                                     [key], {});\n",
              "          if (!dataTable) return;\n",
              "\n",
              "          const docLinkHtml = 'Like what you see? Visit the ' +\n",
              "            '<a target=\"_blank\" href=https://colab.research.google.com/notebooks/data_table.ipynb>data table notebook</a>'\n",
              "            + ' to learn more about interactive tables.';\n",
              "          element.innerHTML = '';\n",
              "          dataTable['output_type'] = 'display_data';\n",
              "          await google.colab.output.renderOutput(dataTable, element);\n",
              "          const docLink = document.createElement('div');\n",
              "          docLink.innerHTML = docLinkHtml;\n",
              "          element.appendChild(docLink);\n",
              "        }\n",
              "      </script>\n",
              "    </div>\n",
              "  </div>\n",
              "  "
            ]
          },
          "metadata": {},
          "execution_count": 64
        }
      ]
    },
    {
      "cell_type": "markdown",
      "source": [
        "# EDA"
      ],
      "metadata": {
        "id": "0ErKyQPyc4oh"
      }
    },
    {
      "cell_type": "markdown",
      "source": [
        "### Data research"
      ],
      "metadata": {
        "id": "OoX-z4v1c6gV"
      }
    },
    {
      "cell_type": "code",
      "source": [
        "# print info of train dataset\n",
        "\n",
        "bod.info()"
      ],
      "metadata": {
        "colab": {
          "base_uri": "https://localhost:8080/",
          "height": 0
        },
        "id": "QLGufWRrz_0h",
        "outputId": "691f7945-0e7f-42fb-f89f-4cccbcba0955"
      },
      "execution_count": 65,
      "outputs": [
        {
          "output_type": "stream",
          "name": "stdout",
          "text": [
            "<class 'pandas.core.frame.DataFrame'>\n",
            "RangeIndex: 147 entries, 0 to 146\n",
            "Data columns (total 9 columns):\n",
            " #   Column  Non-Null Count  Dtype  \n",
            "---  ------  --------------  -----  \n",
            " 0   Id      147 non-null    int64  \n",
            " 1   target  147 non-null    float64\n",
            " 2   1       145 non-null    float64\n",
            " 3   2       145 non-null    float64\n",
            " 4   3       32 non-null     float64\n",
            " 5   4       31 non-null     float64\n",
            " 6   5       33 non-null     float64\n",
            " 7   6       37 non-null     float64\n",
            " 8   7       37 non-null     float64\n",
            "dtypes: float64(8), int64(1)\n",
            "memory usage: 10.5 KB\n"
          ]
        }
      ]
    },
    {
      "cell_type": "code",
      "source": [
        "# print description of train dataset\n",
        "\n",
        "bod.describe()"
      ],
      "metadata": {
        "colab": {
          "base_uri": "https://localhost:8080/",
          "height": 300
        },
        "id": "zwCZuGqKz_3i",
        "outputId": "5e9a0985-ebd8-4420-a197-26bb43f2351b"
      },
      "execution_count": 66,
      "outputs": [
        {
          "output_type": "execute_result",
          "data": {
            "text/plain": [
              "               Id      target           1           2          3          4  \\\n",
              "count  147.000000  147.000000  145.000000  145.000000  32.000000  31.000000   \n",
              "mean   101.401361    5.021633    4.972621    4.906552   4.665000   5.871613   \n",
              "std     64.836640    2.122535    2.044076    2.001357   2.057429   2.555247   \n",
              "min      0.000000    1.300000    0.900000    1.040000   2.040000   2.480000   \n",
              "25%     41.500000    3.720000    3.500000    3.400000   3.325000   4.445000   \n",
              "50%    102.000000    4.600000    4.800000    4.830000   4.150000   5.500000   \n",
              "75%    158.500000    6.275000    6.450000    6.200000   5.970000   6.400000   \n",
              "max    214.000000   11.700000   10.900000   11.000000  10.660000  14.790000   \n",
              "\n",
              "               5          6          7  \n",
              "count  33.000000  37.000000  37.000000  \n",
              "mean    8.678788   3.883784   3.957568  \n",
              "std     5.299119   1.615455   1.916953  \n",
              "min     2.880000   1.000000   1.600000  \n",
              "25%     5.840000   2.900000   2.900000  \n",
              "50%     7.300000   3.400000   3.500000  \n",
              "75%     8.420000   4.800000   4.400000  \n",
              "max    27.120000   8.540000  10.370000  "
            ],
            "text/html": [
              "\n",
              "  <div id=\"df-63d6f01c-c4ca-4017-899e-6be738b2941e\">\n",
              "    <div class=\"colab-df-container\">\n",
              "      <div>\n",
              "<style scoped>\n",
              "    .dataframe tbody tr th:only-of-type {\n",
              "        vertical-align: middle;\n",
              "    }\n",
              "\n",
              "    .dataframe tbody tr th {\n",
              "        vertical-align: top;\n",
              "    }\n",
              "\n",
              "    .dataframe thead th {\n",
              "        text-align: right;\n",
              "    }\n",
              "</style>\n",
              "<table border=\"1\" class=\"dataframe\">\n",
              "  <thead>\n",
              "    <tr style=\"text-align: right;\">\n",
              "      <th></th>\n",
              "      <th>Id</th>\n",
              "      <th>target</th>\n",
              "      <th>1</th>\n",
              "      <th>2</th>\n",
              "      <th>3</th>\n",
              "      <th>4</th>\n",
              "      <th>5</th>\n",
              "      <th>6</th>\n",
              "      <th>7</th>\n",
              "    </tr>\n",
              "  </thead>\n",
              "  <tbody>\n",
              "    <tr>\n",
              "      <th>count</th>\n",
              "      <td>147.000000</td>\n",
              "      <td>147.000000</td>\n",
              "      <td>145.000000</td>\n",
              "      <td>145.000000</td>\n",
              "      <td>32.000000</td>\n",
              "      <td>31.000000</td>\n",
              "      <td>33.000000</td>\n",
              "      <td>37.000000</td>\n",
              "      <td>37.000000</td>\n",
              "    </tr>\n",
              "    <tr>\n",
              "      <th>mean</th>\n",
              "      <td>101.401361</td>\n",
              "      <td>5.021633</td>\n",
              "      <td>4.972621</td>\n",
              "      <td>4.906552</td>\n",
              "      <td>4.665000</td>\n",
              "      <td>5.871613</td>\n",
              "      <td>8.678788</td>\n",
              "      <td>3.883784</td>\n",
              "      <td>3.957568</td>\n",
              "    </tr>\n",
              "    <tr>\n",
              "      <th>std</th>\n",
              "      <td>64.836640</td>\n",
              "      <td>2.122535</td>\n",
              "      <td>2.044076</td>\n",
              "      <td>2.001357</td>\n",
              "      <td>2.057429</td>\n",
              "      <td>2.555247</td>\n",
              "      <td>5.299119</td>\n",
              "      <td>1.615455</td>\n",
              "      <td>1.916953</td>\n",
              "    </tr>\n",
              "    <tr>\n",
              "      <th>min</th>\n",
              "      <td>0.000000</td>\n",
              "      <td>1.300000</td>\n",
              "      <td>0.900000</td>\n",
              "      <td>1.040000</td>\n",
              "      <td>2.040000</td>\n",
              "      <td>2.480000</td>\n",
              "      <td>2.880000</td>\n",
              "      <td>1.000000</td>\n",
              "      <td>1.600000</td>\n",
              "    </tr>\n",
              "    <tr>\n",
              "      <th>25%</th>\n",
              "      <td>41.500000</td>\n",
              "      <td>3.720000</td>\n",
              "      <td>3.500000</td>\n",
              "      <td>3.400000</td>\n",
              "      <td>3.325000</td>\n",
              "      <td>4.445000</td>\n",
              "      <td>5.840000</td>\n",
              "      <td>2.900000</td>\n",
              "      <td>2.900000</td>\n",
              "    </tr>\n",
              "    <tr>\n",
              "      <th>50%</th>\n",
              "      <td>102.000000</td>\n",
              "      <td>4.600000</td>\n",
              "      <td>4.800000</td>\n",
              "      <td>4.830000</td>\n",
              "      <td>4.150000</td>\n",
              "      <td>5.500000</td>\n",
              "      <td>7.300000</td>\n",
              "      <td>3.400000</td>\n",
              "      <td>3.500000</td>\n",
              "    </tr>\n",
              "    <tr>\n",
              "      <th>75%</th>\n",
              "      <td>158.500000</td>\n",
              "      <td>6.275000</td>\n",
              "      <td>6.450000</td>\n",
              "      <td>6.200000</td>\n",
              "      <td>5.970000</td>\n",
              "      <td>6.400000</td>\n",
              "      <td>8.420000</td>\n",
              "      <td>4.800000</td>\n",
              "      <td>4.400000</td>\n",
              "    </tr>\n",
              "    <tr>\n",
              "      <th>max</th>\n",
              "      <td>214.000000</td>\n",
              "      <td>11.700000</td>\n",
              "      <td>10.900000</td>\n",
              "      <td>11.000000</td>\n",
              "      <td>10.660000</td>\n",
              "      <td>14.790000</td>\n",
              "      <td>27.120000</td>\n",
              "      <td>8.540000</td>\n",
              "      <td>10.370000</td>\n",
              "    </tr>\n",
              "  </tbody>\n",
              "</table>\n",
              "</div>\n",
              "      <button class=\"colab-df-convert\" onclick=\"convertToInteractive('df-63d6f01c-c4ca-4017-899e-6be738b2941e')\"\n",
              "              title=\"Convert this dataframe to an interactive table.\"\n",
              "              style=\"display:none;\">\n",
              "        \n",
              "  <svg xmlns=\"http://www.w3.org/2000/svg\" height=\"24px\"viewBox=\"0 0 24 24\"\n",
              "       width=\"24px\">\n",
              "    <path d=\"M0 0h24v24H0V0z\" fill=\"none\"/>\n",
              "    <path d=\"M18.56 5.44l.94 2.06.94-2.06 2.06-.94-2.06-.94-.94-2.06-.94 2.06-2.06.94zm-11 1L8.5 8.5l.94-2.06 2.06-.94-2.06-.94L8.5 2.5l-.94 2.06-2.06.94zm10 10l.94 2.06.94-2.06 2.06-.94-2.06-.94-.94-2.06-.94 2.06-2.06.94z\"/><path d=\"M17.41 7.96l-1.37-1.37c-.4-.4-.92-.59-1.43-.59-.52 0-1.04.2-1.43.59L10.3 9.45l-7.72 7.72c-.78.78-.78 2.05 0 2.83L4 21.41c.39.39.9.59 1.41.59.51 0 1.02-.2 1.41-.59l7.78-7.78 2.81-2.81c.8-.78.8-2.07 0-2.86zM5.41 20L4 18.59l7.72-7.72 1.47 1.35L5.41 20z\"/>\n",
              "  </svg>\n",
              "      </button>\n",
              "      \n",
              "  <style>\n",
              "    .colab-df-container {\n",
              "      display:flex;\n",
              "      flex-wrap:wrap;\n",
              "      gap: 12px;\n",
              "    }\n",
              "\n",
              "    .colab-df-convert {\n",
              "      background-color: #E8F0FE;\n",
              "      border: none;\n",
              "      border-radius: 50%;\n",
              "      cursor: pointer;\n",
              "      display: none;\n",
              "      fill: #1967D2;\n",
              "      height: 32px;\n",
              "      padding: 0 0 0 0;\n",
              "      width: 32px;\n",
              "    }\n",
              "\n",
              "    .colab-df-convert:hover {\n",
              "      background-color: #E2EBFA;\n",
              "      box-shadow: 0px 1px 2px rgba(60, 64, 67, 0.3), 0px 1px 3px 1px rgba(60, 64, 67, 0.15);\n",
              "      fill: #174EA6;\n",
              "    }\n",
              "\n",
              "    [theme=dark] .colab-df-convert {\n",
              "      background-color: #3B4455;\n",
              "      fill: #D2E3FC;\n",
              "    }\n",
              "\n",
              "    [theme=dark] .colab-df-convert:hover {\n",
              "      background-color: #434B5C;\n",
              "      box-shadow: 0px 1px 3px 1px rgba(0, 0, 0, 0.15);\n",
              "      filter: drop-shadow(0px 1px 2px rgba(0, 0, 0, 0.3));\n",
              "      fill: #FFFFFF;\n",
              "    }\n",
              "  </style>\n",
              "\n",
              "      <script>\n",
              "        const buttonEl =\n",
              "          document.querySelector('#df-63d6f01c-c4ca-4017-899e-6be738b2941e button.colab-df-convert');\n",
              "        buttonEl.style.display =\n",
              "          google.colab.kernel.accessAllowed ? 'block' : 'none';\n",
              "\n",
              "        async function convertToInteractive(key) {\n",
              "          const element = document.querySelector('#df-63d6f01c-c4ca-4017-899e-6be738b2941e');\n",
              "          const dataTable =\n",
              "            await google.colab.kernel.invokeFunction('convertToInteractive',\n",
              "                                                     [key], {});\n",
              "          if (!dataTable) return;\n",
              "\n",
              "          const docLinkHtml = 'Like what you see? Visit the ' +\n",
              "            '<a target=\"_blank\" href=https://colab.research.google.com/notebooks/data_table.ipynb>data table notebook</a>'\n",
              "            + ' to learn more about interactive tables.';\n",
              "          element.innerHTML = '';\n",
              "          dataTable['output_type'] = 'display_data';\n",
              "          await google.colab.output.renderOutput(dataTable, element);\n",
              "          const docLink = document.createElement('div');\n",
              "          docLink.innerHTML = docLinkHtml;\n",
              "          element.appendChild(docLink);\n",
              "        }\n",
              "      </script>\n",
              "    </div>\n",
              "  </div>\n",
              "  "
            ]
          },
          "metadata": {},
          "execution_count": 66
        }
      ]
    },
    {
      "cell_type": "code",
      "source": [
        "# checking the columns of train dataset\n",
        "\n",
        "bod.columns"
      ],
      "metadata": {
        "colab": {
          "base_uri": "https://localhost:8080/",
          "height": 0
        },
        "id": "BFFTC14uz_6l",
        "outputId": "e25fe837-e317-4144-cffb-b9dad9de5fb8"
      },
      "execution_count": 67,
      "outputs": [
        {
          "output_type": "execute_result",
          "data": {
            "text/plain": [
              "Index(['Id', 'target', '1', '2', '3', '4', '5', '6', '7'], dtype='object')"
            ]
          },
          "metadata": {},
          "execution_count": 67
        }
      ]
    },
    {
      "cell_type": "code",
      "source": [
        "# checking the datatypes of columns of train dataset\n",
        "\n",
        "bod.dtypes"
      ],
      "metadata": {
        "colab": {
          "base_uri": "https://localhost:8080/",
          "height": 0
        },
        "id": "4ekzZUtEz_9J",
        "outputId": "90eb703f-ac0b-4c2c-d84b-607ec1b9a0e4"
      },
      "execution_count": 68,
      "outputs": [
        {
          "output_type": "execute_result",
          "data": {
            "text/plain": [
              "Id          int64\n",
              "target    float64\n",
              "1         float64\n",
              "2         float64\n",
              "3         float64\n",
              "4         float64\n",
              "5         float64\n",
              "6         float64\n",
              "7         float64\n",
              "dtype: object"
            ]
          },
          "metadata": {},
          "execution_count": 68
        }
      ]
    },
    {
      "cell_type": "code",
      "source": [
        "# checking the unique values of columns of train dataset\n",
        "\n",
        "bod.nunique()"
      ],
      "metadata": {
        "colab": {
          "base_uri": "https://localhost:8080/",
          "height": 0
        },
        "id": "xAz5U02Kz__p",
        "outputId": "d1b1a157-79b5-4b00-c7f6-3b22c90801cc"
      },
      "execution_count": 69,
      "outputs": [
        {
          "output_type": "execute_result",
          "data": {
            "text/plain": [
              "Id        147\n",
              "target     97\n",
              "1         100\n",
              "2          96\n",
              "3          28\n",
              "4          28\n",
              "5          29\n",
              "6          31\n",
              "7          32\n",
              "dtype: int64"
            ]
          },
          "metadata": {},
          "execution_count": 69
        }
      ]
    },
    {
      "cell_type": "code",
      "source": [
        "# checking the missing values in train dataset\n",
        "\n",
        "bod.isna().sum()"
      ],
      "metadata": {
        "colab": {
          "base_uri": "https://localhost:8080/",
          "height": 0
        },
        "id": "v_pgBFhB0ACK",
        "outputId": "3e28cd40-7487-418e-bbf1-d513746fa9d7"
      },
      "execution_count": 70,
      "outputs": [
        {
          "output_type": "execute_result",
          "data": {
            "text/plain": [
              "Id          0\n",
              "target      0\n",
              "1           2\n",
              "2           2\n",
              "3         115\n",
              "4         116\n",
              "5         114\n",
              "6         110\n",
              "7         110\n",
              "dtype: int64"
            ]
          },
          "metadata": {},
          "execution_count": 70
        }
      ]
    },
    {
      "cell_type": "code",
      "source": [],
      "metadata": {
        "id": "dy6C1FAAlYaM"
      },
      "execution_count": 70,
      "outputs": []
    },
    {
      "cell_type": "code",
      "source": [
        "# checking the total missing values in train dataset\n",
        "\n",
        "bod.isna().sum().sum()"
      ],
      "metadata": {
        "colab": {
          "base_uri": "https://localhost:8080/",
          "height": 0
        },
        "id": "j4QVXKq6yTv7",
        "outputId": "f8a4d618-3121-4913-9174-7eab5aa4f40e"
      },
      "execution_count": 71,
      "outputs": [
        {
          "output_type": "execute_result",
          "data": {
            "text/plain": [
              "569"
            ]
          },
          "metadata": {},
          "execution_count": 71
        }
      ]
    },
    {
      "cell_type": "code",
      "source": [
        "# checking the minimum and maximum values of the columns\n",
        "\n",
        "for col in ['target', '1', '2','3','4','5','6','7']:\n",
        "    min_val, max_val = bod[col].min(), bod[col].max()\n",
        "    print(f'Minimum value of {col} is {min_val} and Maximum value of {col} is {max_val}')"
      ],
      "metadata": {
        "id": "9dAtvYPx2Xae",
        "colab": {
          "base_uri": "https://localhost:8080/",
          "height": 0
        },
        "outputId": "e5854b79-8b11-46b2-98b0-f3aebb0a7b7f"
      },
      "execution_count": 72,
      "outputs": [
        {
          "output_type": "stream",
          "name": "stdout",
          "text": [
            "Minimum value of target is 1.3 and Maximum value of target is 11.7\n",
            "Minimum value of 1 is 0.9 and Maximum value of 1 is 10.9\n",
            "Minimum value of 2 is 1.04 and Maximum value of 2 is 11.0\n",
            "Minimum value of 3 is 2.04 and Maximum value of 3 is 10.66\n",
            "Minimum value of 4 is 2.48 and Maximum value of 4 is 14.79\n",
            "Minimum value of 5 is 2.88 and Maximum value of 5 is 27.12\n",
            "Minimum value of 6 is 1.0 and Maximum value of 6 is 8.54\n",
            "Minimum value of 7 is 1.6 and Maximum value of 7 is 10.37\n"
          ]
        }
      ]
    },
    {
      "cell_type": "markdown",
      "source": [
        "### Univariate Analysis"
      ],
      "metadata": {
        "id": "aXUlhFFdcqRp"
      }
    },
    {
      "cell_type": "code",
      "source": [
        "# ploting distribution of column 'target'\n",
        "\n",
        "sns.distplot(bod.target)"
      ],
      "metadata": {
        "colab": {
          "base_uri": "https://localhost:8080/",
          "height": 657
        },
        "id": "mAIYrWYqWqC3",
        "outputId": "fcf5b1b1-fd57-4e9c-8041-d76f81228b02"
      },
      "execution_count": 73,
      "outputs": [
        {
          "output_type": "stream",
          "name": "stderr",
          "text": [
            "<ipython-input-73-da49825729b0>:3: UserWarning: \n",
            "\n",
            "`distplot` is a deprecated function and will be removed in seaborn v0.14.0.\n",
            "\n",
            "Please adapt your code to use either `displot` (a figure-level function with\n",
            "similar flexibility) or `histplot` (an axes-level function for histograms).\n",
            "\n",
            "For a guide to updating your code to use the new functions, please see\n",
            "https://gist.github.com/mwaskom/de44147ed2974457ad6372750bbe5751\n",
            "\n",
            "  sns.distplot(bod.target)\n"
          ]
        },
        {
          "output_type": "execute_result",
          "data": {
            "text/plain": [
              "<Axes: xlabel='target', ylabel='Density'>"
            ]
          },
          "metadata": {},
          "execution_count": 73
        },
        {
          "output_type": "display_data",
          "data": {
            "text/plain": [
              "<Figure size 640x480 with 1 Axes>"
            ],
            "image/png": "[encoded data removed]"
          },
          "metadata": {}
        }
      ]
    },
    {
      "cell_type": "code",
      "source": [
        "# ploting distribution of column '1'\n",
        "\n",
        "sns.distplot(bod['1'])"
      ],
      "metadata": {
        "colab": {
          "base_uri": "https://localhost:8080/",
          "height": 657
        },
        "id": "OkYQBqpuW3tU",
        "outputId": "0490c47c-2c6b-4092-c671-428c77b6b870"
      },
      "execution_count": 74,
      "outputs": [
        {
          "output_type": "stream",
          "name": "stderr",
          "text": [
            "<ipython-input-74-98355eeb690c>:3: UserWarning: \n",
            "\n",
            "`distplot` is a deprecated function and will be removed in seaborn v0.14.0.\n",
            "\n",
            "Please adapt your code to use either `displot` (a figure-level function with\n",
            "similar flexibility) or `histplot` (an axes-level function for histograms).\n",
            "\n",
            "For a guide to updating your code to use the new functions, please see\n",
            "https://gist.github.com/mwaskom/de44147ed2974457ad6372750bbe5751\n",
            "\n",
            "  sns.distplot(bod['1'])\n"
          ]
        },
        {
          "output_type": "execute_result",
          "data": {
            "text/plain": [
              "<Axes: xlabel='1', ylabel='Density'>"
            ]
          },
          "metadata": {},
          "execution_count": 74
        },
        {
          "output_type": "display_data",
          "data": {
            "text/plain": [
              "<Figure size 640x480 with 1 Axes>"
            ],
            "image/png": "[encoded data removed]"
          },
          "metadata": {}
        }
      ]
    },
    {
      "cell_type": "code",
      "source": [
        "# ploting distribution of column '2'\n",
        "\n",
        "sns.distplot(bod['2'])"
      ],
      "metadata": {
        "colab": {
          "base_uri": "https://localhost:8080/",
          "height": 657
        },
        "id": "5vPbexAkXNOh",
        "outputId": "1a6bfbcd-b624-4b15-c47e-4a4bc09b449c"
      },
      "execution_count": 75,
      "outputs": [
        {
          "output_type": "stream",
          "name": "stderr",
          "text": [
            "<ipython-input-75-8fdfa72b1c47>:3: UserWarning: \n",
            "\n",
            "`distplot` is a deprecated function and will be removed in seaborn v0.14.0.\n",
            "\n",
            "Please adapt your code to use either `displot` (a figure-level function with\n",
            "similar flexibility) or `histplot` (an axes-level function for histograms).\n",
            "\n",
            "For a guide to updating your code to use the new functions, please see\n",
            "https://gist.github.com/mwaskom/de44147ed2974457ad6372750bbe5751\n",
            "\n",
            "  sns.distplot(bod['2'])\n"
          ]
        },
        {
          "output_type": "execute_result",
          "data": {
            "text/plain": [
              "<Axes: xlabel='2', ylabel='Density'>"
            ]
          },
          "metadata": {},
          "execution_count": 75
        },
        {
          "output_type": "display_data",
          "data": {
            "text/plain": [
              "<Figure size 640x480 with 1 Axes>"
            ],
            "image/png": "[encoded data removed]"
          },
          "metadata": {}
        }
      ]
    },
    {
      "cell_type": "code",
      "source": [
        "# ploting distribution of column '3'\n",
        "\n",
        "sns.distplot(bod['3'])\n"
      ],
      "metadata": {
        "colab": {
          "base_uri": "https://localhost:8080/",
          "height": 657
        },
        "id": "Dh2QMwjeXOJf",
        "outputId": "d3b1ce8b-32fc-45cf-90f4-756401f5251a"
      },
      "execution_count": 76,
      "outputs": [
        {
          "output_type": "stream",
          "name": "stderr",
          "text": [
            "<ipython-input-76-92ce94edfb77>:3: UserWarning: \n",
            "\n",
            "`distplot` is a deprecated function and will be removed in seaborn v0.14.0.\n",
            "\n",
            "Please adapt your code to use either `displot` (a figure-level function with\n",
            "similar flexibility) or `histplot` (an axes-level function for histograms).\n",
            "\n",
            "For a guide to updating your code to use the new functions, please see\n",
            "https://gist.github.com/mwaskom/de44147ed2974457ad6372750bbe5751\n",
            "\n",
            "  sns.distplot(bod['3'])\n"
          ]
        },
        {
          "output_type": "execute_result",
          "data": {
            "text/plain": [
              "<Axes: xlabel='3', ylabel='Density'>"
            ]
          },
          "metadata": {},
          "execution_count": 76
        },
        {
          "output_type": "display_data",
          "data": {
            "text/plain": [
              "<Figure size 640x480 with 1 Axes>"
            ],
            "image/png": "[encoded data removed]"
          },
          "metadata": {}
        }
      ]
    },
    {
      "cell_type": "code",
      "source": [
        "# ploting distribution of column '4'\n",
        "\n",
        "sns.distplot(bod['4'])\n"
      ],
      "metadata": {
        "colab": {
          "base_uri": "https://localhost:8080/",
          "height": 657
        },
        "id": "Pw2KmbnTXO5l",
        "outputId": "6aa17c40-7ffc-4d03-a301-3c1cea3f3ed3"
      },
      "execution_count": 77,
      "outputs": [
        {
          "output_type": "stream",
          "name": "stderr",
          "text": [
            "<ipython-input-77-60ea5277082e>:3: UserWarning: \n",
            "\n",
            "`distplot` is a deprecated function and will be removed in seaborn v0.14.0.\n",
            "\n",
            "Please adapt your code to use either `displot` (a figure-level function with\n",
            "similar flexibility) or `histplot` (an axes-level function for histograms).\n",
            "\n",
            "For a guide to updating your code to use the new functions, please see\n",
            "https://gist.github.com/mwaskom/de44147ed2974457ad6372750bbe5751\n",
            "\n",
            "  sns.distplot(bod['4'])\n"
          ]
        },
        {
          "output_type": "execute_result",
          "data": {
            "text/plain": [
              "<Axes: xlabel='4', ylabel='Density'>"
            ]
          },
          "metadata": {},
          "execution_count": 77
        },
        {
          "output_type": "display_data",
          "data": {
            "text/plain": [
              "<Figure size 640x480 with 1 Axes>"
            ],
            "image/png": "[encoded data removed]"
          },
          "metadata": {}
        }
      ]
    },
    {
      "cell_type": "code",
      "source": [
        "# ploting distribution of column '5'\n",
        "\n",
        "sns.distplot(bod['5'])\n"
      ],
      "metadata": {
        "colab": {
          "base_uri": "https://localhost:8080/",
          "height": 657
        },
        "id": "7KnstaJ2XPga",
        "outputId": "2dbe1618-c9b5-4220-81b9-2a7359fd7cd1"
      },
      "execution_count": 78,
      "outputs": [
        {
          "output_type": "stream",
          "name": "stderr",
          "text": [
            "<ipython-input-78-2667bf24d7ef>:3: UserWarning: \n",
            "\n",
            "`distplot` is a deprecated function and will be removed in seaborn v0.14.0.\n",
            "\n",
            "Please adapt your code to use either `displot` (a figure-level function with\n",
            "similar flexibility) or `histplot` (an axes-level function for histograms).\n",
            "\n",
            "For a guide to updating your code to use the new functions, please see\n",
            "https://gist.github.com/mwaskom/de44147ed2974457ad6372750bbe5751\n",
            "\n",
            "  sns.distplot(bod['5'])\n"
          ]
        },
        {
          "output_type": "execute_result",
          "data": {
            "text/plain": [
              "<Axes: xlabel='5', ylabel='Density'>"
            ]
          },
          "metadata": {},
          "execution_count": 78
        },
        {
          "output_type": "display_data",
          "data": {
            "text/plain": [
              "<Figure size 640x480 with 1 Axes>"
            ],
            "image/png": "[encoded data removed]"
          },
          "metadata": {}
        }
      ]
    },
    {
      "cell_type": "code",
      "source": [
        "# ploting distribution of column '6'\n",
        "\n",
        "sns.distplot(bod['6'])\n"
      ],
      "metadata": {
        "colab": {
          "base_uri": "https://localhost:8080/",
          "height": 657
        },
        "id": "bn0-GpmUXQvZ",
        "outputId": "200bb9dc-b07e-4a97-f664-9ef4359caad3"
      },
      "execution_count": 79,
      "outputs": [
        {
          "output_type": "stream",
          "name": "stderr",
          "text": [
            "<ipython-input-79-d938e1aae120>:3: UserWarning: \n",
            "\n",
            "`distplot` is a deprecated function and will be removed in seaborn v0.14.0.\n",
            "\n",
            "Please adapt your code to use either `displot` (a figure-level function with\n",
            "similar flexibility) or `histplot` (an axes-level function for histograms).\n",
            "\n",
            "For a guide to updating your code to use the new functions, please see\n",
            "https://gist.github.com/mwaskom/de44147ed2974457ad6372750bbe5751\n",
            "\n",
            "  sns.distplot(bod['6'])\n"
          ]
        },
        {
          "output_type": "execute_result",
          "data": {
            "text/plain": [
              "<Axes: xlabel='6', ylabel='Density'>"
            ]
          },
          "metadata": {},
          "execution_count": 79
        },
        {
          "output_type": "display_data",
          "data": {
            "text/plain": [
              "<Figure size 640x480 with 1 Axes>"
            ],
            "image/png": "[encoded data removed]"
          },
          "metadata": {}
        }
      ]
    },
    {
      "cell_type": "code",
      "source": [
        "# ploting distribution of column '7'\n",
        "\n",
        "sns.distplot(bod['7'])\n"
      ],
      "metadata": {
        "colab": {
          "base_uri": "https://localhost:8080/",
          "height": 657
        },
        "id": "u_4S247Cs0S3",
        "outputId": "96b40eb0-78d9-4250-a8c9-68e6cdad2dee"
      },
      "execution_count": 80,
      "outputs": [
        {
          "output_type": "stream",
          "name": "stderr",
          "text": [
            "<ipython-input-80-e5bfb1a4d4fe>:3: UserWarning: \n",
            "\n",
            "`distplot` is a deprecated function and will be removed in seaborn v0.14.0.\n",
            "\n",
            "Please adapt your code to use either `displot` (a figure-level function with\n",
            "similar flexibility) or `histplot` (an axes-level function for histograms).\n",
            "\n",
            "For a guide to updating your code to use the new functions, please see\n",
            "https://gist.github.com/mwaskom/de44147ed2974457ad6372750bbe5751\n",
            "\n",
            "  sns.distplot(bod['7'])\n"
          ]
        },
        {
          "output_type": "execute_result",
          "data": {
            "text/plain": [
              "<Axes: xlabel='7', ylabel='Density'>"
            ]
          },
          "metadata": {},
          "execution_count": 80
        },
        {
          "output_type": "display_data",
          "data": {
            "text/plain": [
              "<Figure size 640x480 with 1 Axes>"
            ],
            "image/png": "[encoded data removed]"
          },
          "metadata": {}
        }
      ]
    },
    {
      "cell_type": "markdown",
      "source": [
        "### Multivariate Analysis"
      ],
      "metadata": {
        "id": "NmIzf8mOubNl"
      }
    },
    {
      "cell_type": "code",
      "source": [
        "# ploting scatter plot of column '1' vs 'target'\n",
        "\n",
        "sns.scatterplot(x = '1', y = 'target', data = bod)"
      ],
      "metadata": {
        "colab": {
          "base_uri": "https://localhost:8080/",
          "height": 466
        },
        "id": "4GXAK3pkwDfk",
        "outputId": "9fc8d170-3ac2-4b6f-a446-8a46d44d0248"
      },
      "execution_count": 81,
      "outputs": [
        {
          "output_type": "execute_result",
          "data": {
            "text/plain": [
              "<Axes: xlabel='1', ylabel='target'>"
            ]
          },
          "metadata": {},
          "execution_count": 81
        },
        {
          "output_type": "display_data",
          "data": {
            "text/plain": [
              "<Figure size 640x480 with 1 Axes>"
            ],
            "image/png": "[encoded data removed]"
          },
          "metadata": {}
        }
      ]
    },
    {
      "cell_type": "code",
      "source": [
        "# ploting scatter plot of column '2' vs 'target'\n",
        "\n",
        "sns.scatterplot(x = '2', y = 'target', data = bod)"
      ],
      "metadata": {
        "colab": {
          "base_uri": "https://localhost:8080/",
          "height": 466
        },
        "id": "EJn5ePqz3d-_",
        "outputId": "d8917d97-3162-4677-d2d9-a3bc3a891fca"
      },
      "execution_count": 82,
      "outputs": [
        {
          "output_type": "execute_result",
          "data": {
            "text/plain": [
              "<Axes: xlabel='2', ylabel='target'>"
            ]
          },
          "metadata": {},
          "execution_count": 82
        },
        {
          "output_type": "display_data",
          "data": {
            "text/plain": [
              "<Figure size 640x480 with 1 Axes>"
            ],
            "image/png": "[encoded data removed]"
          },
          "metadata": {}
        }
      ]
    },
    {
      "cell_type": "code",
      "source": [
        "# checking the correlation between the independent and target variables\n",
        "\n",
        "bod.corr()"
      ],
      "metadata": {
        "colab": {
          "base_uri": "https://localhost:8080/",
          "height": 331
        },
        "id": "4fsNEcq4s_n5",
        "outputId": "201ac030-d403-4bb9-df9f-59cddad14419"
      },
      "execution_count": 83,
      "outputs": [
        {
          "output_type": "execute_result",
          "data": {
            "text/plain": [
              "              Id    target         1         2         3         4         5  \\\n",
              "Id      1.000000  0.142551  0.138846  0.134522  0.051184  0.337868  0.288186   \n",
              "target  0.142551  1.000000  0.762797  0.645750 -0.081867 -0.240687 -0.025463   \n",
              "1       0.138846  0.762797  1.000000  0.735809 -0.045895 -0.225394  0.040384   \n",
              "2       0.134522  0.645750  0.735809  1.000000  0.047233 -0.223488 -0.115455   \n",
              "3       0.051184 -0.081867 -0.045895  0.047233  1.000000  0.369179  0.043051   \n",
              "4       0.337868 -0.240687 -0.225394 -0.223488  0.369179  1.000000  0.696659   \n",
              "5       0.288186 -0.025463  0.040384 -0.115455  0.043051  0.696659  1.000000   \n",
              "6       0.111071 -0.029243 -0.066519 -0.038683  0.494418  0.209342  0.271829   \n",
              "7       0.433448  0.001260 -0.068133 -0.138312  0.648072  0.255105  0.277095   \n",
              "\n",
              "               6         7  \n",
              "Id      0.111071  0.433448  \n",
              "target -0.029243  0.001260  \n",
              "1      -0.066519 -0.068133  \n",
              "2      -0.038683 -0.138312  \n",
              "3       0.494418  0.648072  \n",
              "4       0.209342  0.255105  \n",
              "5       0.271829  0.277095  \n",
              "6       1.000000  0.700161  \n",
              "7       0.700161  1.000000  "
            ],
            "text/html": [
              "\n",
              "  <div id=\"df-3bd685a0-3927-4215-900f-d042d191f12c\">\n",
              "    <div class=\"colab-df-container\">\n",
              "      <div>\n",
              "<style scoped>\n",
              "    .dataframe tbody tr th:only-of-type {\n",
              "        vertical-align: middle;\n",
              "    }\n",
              "\n",
              "    .dataframe tbody tr th {\n",
              "        vertical-align: top;\n",
              "    }\n",
              "\n",
              "    .dataframe thead th {\n",
              "        text-align: right;\n",
              "    }\n",
              "</style>\n",
              "<table border=\"1\" class=\"dataframe\">\n",
              "  <thead>\n",
              "    <tr style=\"text-align: right;\">\n",
              "      <th></th>\n",
              "      <th>Id</th>\n",
              "      <th>target</th>\n",
              "      <th>1</th>\n",
              "      <th>2</th>\n",
              "      <th>3</th>\n",
              "      <th>4</th>\n",
              "      <th>5</th>\n",
              "      <th>6</th>\n",
              "      <th>7</th>\n",
              "    </tr>\n",
              "  </thead>\n",
              "  <tbody>\n",
              "    <tr>\n",
              "      <th>Id</th>\n",
              "      <td>1.000000</td>\n",
              "      <td>0.142551</td>\n",
              "      <td>0.138846</td>\n",
              "      <td>0.134522</td>\n",
              "      <td>0.051184</td>\n",
              "      <td>0.337868</td>\n",
              "      <td>0.288186</td>\n",
              "      <td>0.111071</td>\n",
              "      <td>0.433448</td>\n",
              "    </tr>\n",
              "    <tr>\n",
              "      <th>target</th>\n",
              "      <td>0.142551</td>\n",
              "      <td>1.000000</td>\n",
              "      <td>0.762797</td>\n",
              "      <td>0.645750</td>\n",
              "      <td>-0.081867</td>\n",
              "      <td>-0.240687</td>\n",
              "      <td>-0.025463</td>\n",
              "      <td>-0.029243</td>\n",
              "      <td>0.001260</td>\n",
              "    </tr>\n",
              "    <tr>\n",
              "      <th>1</th>\n",
              "      <td>0.138846</td>\n",
              "      <td>0.762797</td>\n",
              "      <td>1.000000</td>\n",
              "      <td>0.735809</td>\n",
              "      <td>-0.045895</td>\n",
              "      <td>-0.225394</td>\n",
              "      <td>0.040384</td>\n",
              "      <td>-0.066519</td>\n",
              "      <td>-0.068133</td>\n",
              "    </tr>\n",
              "    <tr>\n",
              "      <th>2</th>\n",
              "      <td>0.134522</td>\n",
              "      <td>0.645750</td>\n",
              "      <td>0.735809</td>\n",
              "      <td>1.000000</td>\n",
              "      <td>0.047233</td>\n",
              "      <td>-0.223488</td>\n",
              "      <td>-0.115455</td>\n",
              "      <td>-0.038683</td>\n",
              "      <td>-0.138312</td>\n",
              "    </tr>\n",
              "    <tr>\n",
              "      <th>3</th>\n",
              "      <td>0.051184</td>\n",
              "      <td>-0.081867</td>\n",
              "      <td>-0.045895</td>\n",
              "      <td>0.047233</td>\n",
              "      <td>1.000000</td>\n",
              "      <td>0.369179</td>\n",
              "      <td>0.043051</td>\n",
              "      <td>0.494418</td>\n",
              "      <td>0.648072</td>\n",
              "    </tr>\n",
              "    <tr>\n",
              "      <th>4</th>\n",
              "      <td>0.337868</td>\n",
              "      <td>-0.240687</td>\n",
              "      <td>-0.225394</td>\n",
              "      <td>-0.223488</td>\n",
              "      <td>0.369179</td>\n",
              "      <td>1.000000</td>\n",
              "      <td>0.696659</td>\n",
              "      <td>0.209342</td>\n",
              "      <td>0.255105</td>\n",
              "    </tr>\n",
              "    <tr>\n",
              "      <th>5</th>\n",
              "      <td>0.288186</td>\n",
              "      <td>-0.025463</td>\n",
              "      <td>0.040384</td>\n",
              "      <td>-0.115455</td>\n",
              "      <td>0.043051</td>\n",
              "      <td>0.696659</td>\n",
              "      <td>1.000000</td>\n",
              "      <td>0.271829</td>\n",
              "      <td>0.277095</td>\n",
              "    </tr>\n",
              "    <tr>\n",
              "      <th>6</th>\n",
              "      <td>0.111071</td>\n",
              "      <td>-0.029243</td>\n",
              "      <td>-0.066519</td>\n",
              "      <td>-0.038683</td>\n",
              "      <td>0.494418</td>\n",
              "      <td>0.209342</td>\n",
              "      <td>0.271829</td>\n",
              "      <td>1.000000</td>\n",
              "      <td>0.700161</td>\n",
              "    </tr>\n",
              "    <tr>\n",
              "      <th>7</th>\n",
              "      <td>0.433448</td>\n",
              "      <td>0.001260</td>\n",
              "      <td>-0.068133</td>\n",
              "      <td>-0.138312</td>\n",
              "      <td>0.648072</td>\n",
              "      <td>0.255105</td>\n",
              "      <td>0.277095</td>\n",
              "      <td>0.700161</td>\n",
              "      <td>1.000000</td>\n",
              "    </tr>\n",
              "  </tbody>\n",
              "</table>\n",
              "</div>\n",
              "      <button class=\"colab-df-convert\" onclick=\"convertToInteractive('df-3bd685a0-3927-4215-900f-d042d191f12c')\"\n",
              "              title=\"Convert this dataframe to an interactive table.\"\n",
              "              style=\"display:none;\">\n",
              "        \n",
              "  <svg xmlns=\"http://www.w3.org/2000/svg\" height=\"24px\"viewBox=\"0 0 24 24\"\n",
              "       width=\"24px\">\n",
              "    <path d=\"M0 0h24v24H0V0z\" fill=\"none\"/>\n",
              "    <path d=\"M18.56 5.44l.94 2.06.94-2.06 2.06-.94-2.06-.94-.94-2.06-.94 2.06-2.06.94zm-11 1L8.5 8.5l.94-2.06 2.06-.94-2.06-.94L8.5 2.5l-.94 2.06-2.06.94zm10 10l.94 2.06.94-2.06 2.06-.94-2.06-.94-.94-2.06-.94 2.06-2.06.94z\"/><path d=\"M17.41 7.96l-1.37-1.37c-.4-.4-.92-.59-1.43-.59-.52 0-1.04.2-1.43.59L10.3 9.45l-7.72 7.72c-.78.78-.78 2.05 0 2.83L4 21.41c.39.39.9.59 1.41.59.51 0 1.02-.2 1.41-.59l7.78-7.78 2.81-2.81c.8-.78.8-2.07 0-2.86zM5.41 20L4 18.59l7.72-7.72 1.47 1.35L5.41 20z\"/>\n",
              "  </svg>\n",
              "      </button>\n",
              "      \n",
              "  <style>\n",
              "    .colab-df-container {\n",
              "      display:flex;\n",
              "      flex-wrap:wrap;\n",
              "      gap: 12px;\n",
              "    }\n",
              "\n",
              "    .colab-df-convert {\n",
              "      background-color: #E8F0FE;\n",
              "      border: none;\n",
              "      border-radius: 50%;\n",
              "      cursor: pointer;\n",
              "      display: none;\n",
              "      fill: #1967D2;\n",
              "      height: 32px;\n",
              "      padding: 0 0 0 0;\n",
              "      width: 32px;\n",
              "    }\n",
              "\n",
              "    .colab-df-convert:hover {\n",
              "      background-color: #E2EBFA;\n",
              "      box-shadow: 0px 1px 2px rgba(60, 64, 67, 0.3), 0px 1px 3px 1px rgba(60, 64, 67, 0.15);\n",
              "      fill: #174EA6;\n",
              "    }\n",
              "\n",
              "    [theme=dark] .colab-df-convert {\n",
              "      background-color: #3B4455;\n",
              "      fill: #D2E3FC;\n",
              "    }\n",
              "\n",
              "    [theme=dark] .colab-df-convert:hover {\n",
              "      background-color: #434B5C;\n",
              "      box-shadow: 0px 1px 3px 1px rgba(0, 0, 0, 0.15);\n",
              "      filter: drop-shadow(0px 1px 2px rgba(0, 0, 0, 0.3));\n",
              "      fill: #FFFFFF;\n",
              "    }\n",
              "  </style>\n",
              "\n",
              "      <script>\n",
              "        const buttonEl =\n",
              "          document.querySelector('#df-3bd685a0-3927-4215-900f-d042d191f12c button.colab-df-convert');\n",
              "        buttonEl.style.display =\n",
              "          google.colab.kernel.accessAllowed ? 'block' : 'none';\n",
              "\n",
              "        async function convertToInteractive(key) {\n",
              "          const element = document.querySelector('#df-3bd685a0-3927-4215-900f-d042d191f12c');\n",
              "          const dataTable =\n",
              "            await google.colab.kernel.invokeFunction('convertToInteractive',\n",
              "                                                     [key], {});\n",
              "          if (!dataTable) return;\n",
              "\n",
              "          const docLinkHtml = 'Like what you see? Visit the ' +\n",
              "            '<a target=\"_blank\" href=https://colab.research.google.com/notebooks/data_table.ipynb>data table notebook</a>'\n",
              "            + ' to learn more about interactive tables.';\n",
              "          element.innerHTML = '';\n",
              "          dataTable['output_type'] = 'display_data';\n",
              "          await google.colab.output.renderOutput(dataTable, element);\n",
              "          const docLink = document.createElement('div');\n",
              "          docLink.innerHTML = docLinkHtml;\n",
              "          element.appendChild(docLink);\n",
              "        }\n",
              "      </script>\n",
              "    </div>\n",
              "  </div>\n",
              "  "
            ]
          },
          "metadata": {},
          "execution_count": 83
        }
      ]
    },
    {
      "cell_type": "code",
      "source": [
        "# ploting heat map to see the correlation between independent and target variables\n",
        "\n",
        "f, ax= plt.subplots(figsize = (6,4))\n",
        "plt.title(\"Correlation of Independent Numerical Variables including Target variable\")\n",
        "\n",
        "sns.heatmap(bod[['Id', '1', '2', '3', '4', '5', '6', '7', 'target']].corr(), square=True, vmin=-1, vmax=1)"
      ],
      "metadata": {
        "colab": {
          "base_uri": "https://localhost:8080/",
          "height": 408
        },
        "id": "wIMkGVpdvGqH",
        "outputId": "4cdd7de1-7329-416e-c8fe-a1df0e7f3bbc"
      },
      "execution_count": 84,
      "outputs": [
        {
          "output_type": "execute_result",
          "data": {
            "text/plain": [
              "<Axes: title={'center': 'Correlation of Independent Numerical Variables including Target variable'}>"
            ]
          },
          "metadata": {},
          "execution_count": 84
        },
        {
          "output_type": "display_data",
          "data": {
            "text/plain": [
              "<Figure size 600x400 with 2 Axes>"
            ],
            "image/png": "[encoded data removed]"
          },
          "metadata": {}
        }
      ]
    },
    {
      "cell_type": "code",
      "source": [
        "#We can see from the above heatmap that the columns other than 'target', '1', '2' are poorly correlated with each other and also the target column.\n",
        "#Also these columns from '3' to '7' are having high number of missing values.\n",
        "#hence the are of no use to the data right now and thus we drop these columns from the data."
      ],
      "metadata": {
        "id": "jB8o3Eab-rc2"
      },
      "execution_count": 85,
      "outputs": []
    },
    {
      "cell_type": "markdown",
      "source": [
        "# Imputing missing values and removing unnecessary columns"
      ],
      "metadata": {
        "id": "mZWIsIteUh2k"
      }
    },
    {
      "cell_type": "code",
      "source": [
        " # droping unnecessary columns and the columns having missing values in train dataset\n",
        "\n",
        " bod1 = bod.drop(['Id','3','4','5','6','7'], axis = 1)\n",
        " bod1 = bod1.dropna()"
      ],
      "metadata": {
        "id": "f9Vw50BQ8x7X"
      },
      "execution_count": 86,
      "outputs": []
    },
    {
      "cell_type": "code",
      "source": [
        "bod1"
      ],
      "metadata": {
        "colab": {
          "base_uri": "https://localhost:8080/",
          "height": 423
        },
        "id": "nMmNsk7v81oN",
        "outputId": "44380ee4-7422-4b34-8747-ffef0f08caca"
      },
      "execution_count": 87,
      "outputs": [
        {
          "output_type": "execute_result",
          "data": {
            "text/plain": [
              "     target     1     2\n",
              "0      5.85  4.80  5.85\n",
              "1      4.28  5.88  6.84\n",
              "2      3.97  3.20  2.70\n",
              "3      5.95  7.70  7.06\n",
              "4      4.70  5.50  5.30\n",
              "..      ...   ...   ...\n",
              "142    2.20  5.00  5.80\n",
              "143    5.60  8.00  8.00\n",
              "144    6.00  6.80  7.20\n",
              "145    8.00  5.20  7.80\n",
              "146    3.10  3.40  4.10\n",
              "\n",
              "[144 rows x 3 columns]"
            ],
            "text/html": [
              "\n",
              "  <div id=\"df-18f55715-c72c-4c98-92e8-5a28d359b5b4\">\n",
              "    <div class=\"colab-df-container\">\n",
              "      <div>\n",
              "<style scoped>\n",
              "    .dataframe tbody tr th:only-of-type {\n",
              "        vertical-align: middle;\n",
              "    }\n",
              "\n",
              "    .dataframe tbody tr th {\n",
              "        vertical-align: top;\n",
              "    }\n",
              "\n",
              "    .dataframe thead th {\n",
              "        text-align: right;\n",
              "    }\n",
              "</style>\n",
              "<table border=\"1\" class=\"dataframe\">\n",
              "  <thead>\n",
              "    <tr style=\"text-align: right;\">\n",
              "      <th></th>\n",
              "      <th>target</th>\n",
              "      <th>1</th>\n",
              "      <th>2</th>\n",
              "    </tr>\n",
              "  </thead>\n",
              "  <tbody>\n",
              "    <tr>\n",
              "      <th>0</th>\n",
              "      <td>5.85</td>\n",
              "      <td>4.80</td>\n",
              "      <td>5.85</td>\n",
              "    </tr>\n",
              "    <tr>\n",
              "      <th>1</th>\n",
              "      <td>4.28</td>\n",
              "      <td>5.88</td>\n",
              "      <td>6.84</td>\n",
              "    </tr>\n",
              "    <tr>\n",
              "      <th>2</th>\n",
              "      <td>3.97</td>\n",
              "      <td>3.20</td>\n",
              "      <td>2.70</td>\n",
              "    </tr>\n",
              "    <tr>\n",
              "      <th>3</th>\n",
              "      <td>5.95</td>\n",
              "      <td>7.70</td>\n",
              "      <td>7.06</td>\n",
              "    </tr>\n",
              "    <tr>\n",
              "      <th>4</th>\n",
              "      <td>4.70</td>\n",
              "      <td>5.50</td>\n",
              "      <td>5.30</td>\n",
              "    </tr>\n",
              "    <tr>\n",
              "      <th>...</th>\n",
              "      <td>...</td>\n",
              "      <td>...</td>\n",
              "      <td>...</td>\n",
              "    </tr>\n",
              "    <tr>\n",
              "      <th>142</th>\n",
              "      <td>2.20</td>\n",
              "      <td>5.00</td>\n",
              "      <td>5.80</td>\n",
              "    </tr>\n",
              "    <tr>\n",
              "      <th>143</th>\n",
              "      <td>5.60</td>\n",
              "      <td>8.00</td>\n",
              "      <td>8.00</td>\n",
              "    </tr>\n",
              "    <tr>\n",
              "      <th>144</th>\n",
              "      <td>6.00</td>\n",
              "      <td>6.80</td>\n",
              "      <td>7.20</td>\n",
              "    </tr>\n",
              "    <tr>\n",
              "      <th>145</th>\n",
              "      <td>8.00</td>\n",
              "      <td>5.20</td>\n",
              "      <td>7.80</td>\n",
              "    </tr>\n",
              "    <tr>\n",
              "      <th>146</th>\n",
              "      <td>3.10</td>\n",
              "      <td>3.40</td>\n",
              "      <td>4.10</td>\n",
              "    </tr>\n",
              "  </tbody>\n",
              "</table>\n",
              "<p>144 rows × 3 columns</p>\n",
              "</div>\n",
              "      <button class=\"colab-df-convert\" onclick=\"convertToInteractive('df-18f55715-c72c-4c98-92e8-5a28d359b5b4')\"\n",
              "              title=\"Convert this dataframe to an interactive table.\"\n",
              "              style=\"display:none;\">\n",
              "        \n",
              "  <svg xmlns=\"http://www.w3.org/2000/svg\" height=\"24px\"viewBox=\"0 0 24 24\"\n",
              "       width=\"24px\">\n",
              "    <path d=\"M0 0h24v24H0V0z\" fill=\"none\"/>\n",
              "    <path d=\"M18.56 5.44l.94 2.06.94-2.06 2.06-.94-2.06-.94-.94-2.06-.94 2.06-2.06.94zm-11 1L8.5 8.5l.94-2.06 2.06-.94-2.06-.94L8.5 2.5l-.94 2.06-2.06.94zm10 10l.94 2.06.94-2.06 2.06-.94-2.06-.94-.94-2.06-.94 2.06-2.06.94z\"/><path d=\"M17.41 7.96l-1.37-1.37c-.4-.4-.92-.59-1.43-.59-.52 0-1.04.2-1.43.59L10.3 9.45l-7.72 7.72c-.78.78-.78 2.05 0 2.83L4 21.41c.39.39.9.59 1.41.59.51 0 1.02-.2 1.41-.59l7.78-7.78 2.81-2.81c.8-.78.8-2.07 0-2.86zM5.41 20L4 18.59l7.72-7.72 1.47 1.35L5.41 20z\"/>\n",
              "  </svg>\n",
              "      </button>\n",
              "      \n",
              "  <style>\n",
              "    .colab-df-container {\n",
              "      display:flex;\n",
              "      flex-wrap:wrap;\n",
              "      gap: 12px;\n",
              "    }\n",
              "\n",
              "    .colab-df-convert {\n",
              "      background-color: #E8F0FE;\n",
              "      border: none;\n",
              "      border-radius: 50%;\n",
              "      cursor: pointer;\n",
              "      display: none;\n",
              "      fill: #1967D2;\n",
              "      height: 32px;\n",
              "      padding: 0 0 0 0;\n",
              "      width: 32px;\n",
              "    }\n",
              "\n",
              "    .colab-df-convert:hover {\n",
              "      background-color: #E2EBFA;\n",
              "      box-shadow: 0px 1px 2px rgba(60, 64, 67, 0.3), 0px 1px 3px 1px rgba(60, 64, 67, 0.15);\n",
              "      fill: #174EA6;\n",
              "    }\n",
              "\n",
              "    [theme=dark] .colab-df-convert {\n",
              "      background-color: #3B4455;\n",
              "      fill: #D2E3FC;\n",
              "    }\n",
              "\n",
              "    [theme=dark] .colab-df-convert:hover {\n",
              "      background-color: #434B5C;\n",
              "      box-shadow: 0px 1px 3px 1px rgba(0, 0, 0, 0.15);\n",
              "      filter: drop-shadow(0px 1px 2px rgba(0, 0, 0, 0.3));\n",
              "      fill: #FFFFFF;\n",
              "    }\n",
              "  </style>\n",
              "\n",
              "      <script>\n",
              "        const buttonEl =\n",
              "          document.querySelector('#df-18f55715-c72c-4c98-92e8-5a28d359b5b4 button.colab-df-convert');\n",
              "        buttonEl.style.display =\n",
              "          google.colab.kernel.accessAllowed ? 'block' : 'none';\n",
              "\n",
              "        async function convertToInteractive(key) {\n",
              "          const element = document.querySelector('#df-18f55715-c72c-4c98-92e8-5a28d359b5b4');\n",
              "          const dataTable =\n",
              "            await google.colab.kernel.invokeFunction('convertToInteractive',\n",
              "                                                     [key], {});\n",
              "          if (!dataTable) return;\n",
              "\n",
              "          const docLinkHtml = 'Like what you see? Visit the ' +\n",
              "            '<a target=\"_blank\" href=https://colab.research.google.com/notebooks/data_table.ipynb>data table notebook</a>'\n",
              "            + ' to learn more about interactive tables.';\n",
              "          element.innerHTML = '';\n",
              "          dataTable['output_type'] = 'display_data';\n",
              "          await google.colab.output.renderOutput(dataTable, element);\n",
              "          const docLink = document.createElement('div');\n",
              "          docLink.innerHTML = docLinkHtml;\n",
              "          element.appendChild(docLink);\n",
              "        }\n",
              "      </script>\n",
              "    </div>\n",
              "  </div>\n",
              "  "
            ]
          },
          "metadata": {},
          "execution_count": 87
        }
      ]
    },
    {
      "cell_type": "code",
      "source": [
        "# checking if there's still any missing values in train dataset\n",
        "\n",
        "bod1.info()"
      ],
      "metadata": {
        "colab": {
          "base_uri": "https://localhost:8080/",
          "height": 0
        },
        "id": "h8Nsfsod84RG",
        "outputId": "979183b7-534c-4b71-c084-fd1c989455fa"
      },
      "execution_count": 88,
      "outputs": [
        {
          "output_type": "stream",
          "name": "stdout",
          "text": [
            "<class 'pandas.core.frame.DataFrame'>\n",
            "Int64Index: 144 entries, 0 to 146\n",
            "Data columns (total 3 columns):\n",
            " #   Column  Non-Null Count  Dtype  \n",
            "---  ------  --------------  -----  \n",
            " 0   target  144 non-null    float64\n",
            " 1   1       144 non-null    float64\n",
            " 2   2       144 non-null    float64\n",
            "dtypes: float64(3)\n",
            "memory usage: 4.5 KB\n"
          ]
        }
      ]
    },
    {
      "cell_type": "code",
      "source": [
        "# checking the correlation between the independent and target variables after removing empty values\n",
        "\n",
        "bod1.corr()"
      ],
      "metadata": {
        "colab": {
          "base_uri": "https://localhost:8080/",
          "height": 143
        },
        "id": "EIxTdBeU9Ets",
        "outputId": "001bccfb-eae0-47a3-f776-fa5d3d92e764"
      },
      "execution_count": 89,
      "outputs": [
        {
          "output_type": "execute_result",
          "data": {
            "text/plain": [
              "          target         1         2\n",
              "target  1.000000  0.762989  0.639284\n",
              "1       0.762989  1.000000  0.735809\n",
              "2       0.639284  0.735809  1.000000"
            ],
            "text/html": [
              "\n",
              "  <div id=\"df-d19b12b4-bd15-4017-aca0-18c63a33bb06\">\n",
              "    <div class=\"colab-df-container\">\n",
              "      <div>\n",
              "<style scoped>\n",
              "    .dataframe tbody tr th:only-of-type {\n",
              "        vertical-align: middle;\n",
              "    }\n",
              "\n",
              "    .dataframe tbody tr th {\n",
              "        vertical-align: top;\n",
              "    }\n",
              "\n",
              "    .dataframe thead th {\n",
              "        text-align: right;\n",
              "    }\n",
              "</style>\n",
              "<table border=\"1\" class=\"dataframe\">\n",
              "  <thead>\n",
              "    <tr style=\"text-align: right;\">\n",
              "      <th></th>\n",
              "      <th>target</th>\n",
              "      <th>1</th>\n",
              "      <th>2</th>\n",
              "    </tr>\n",
              "  </thead>\n",
              "  <tbody>\n",
              "    <tr>\n",
              "      <th>target</th>\n",
              "      <td>1.000000</td>\n",
              "      <td>0.762989</td>\n",
              "      <td>0.639284</td>\n",
              "    </tr>\n",
              "    <tr>\n",
              "      <th>1</th>\n",
              "      <td>0.762989</td>\n",
              "      <td>1.000000</td>\n",
              "      <td>0.735809</td>\n",
              "    </tr>\n",
              "    <tr>\n",
              "      <th>2</th>\n",
              "      <td>0.639284</td>\n",
              "      <td>0.735809</td>\n",
              "      <td>1.000000</td>\n",
              "    </tr>\n",
              "  </tbody>\n",
              "</table>\n",
              "</div>\n",
              "      <button class=\"colab-df-convert\" onclick=\"convertToInteractive('df-d19b12b4-bd15-4017-aca0-18c63a33bb06')\"\n",
              "              title=\"Convert this dataframe to an interactive table.\"\n",
              "              style=\"display:none;\">\n",
              "        \n",
              "  <svg xmlns=\"http://www.w3.org/2000/svg\" height=\"24px\"viewBox=\"0 0 24 24\"\n",
              "       width=\"24px\">\n",
              "    <path d=\"M0 0h24v24H0V0z\" fill=\"none\"/>\n",
              "    <path d=\"M18.56 5.44l.94 2.06.94-2.06 2.06-.94-2.06-.94-.94-2.06-.94 2.06-2.06.94zm-11 1L8.5 8.5l.94-2.06 2.06-.94-2.06-.94L8.5 2.5l-.94 2.06-2.06.94zm10 10l.94 2.06.94-2.06 2.06-.94-2.06-.94-.94-2.06-.94 2.06-2.06.94z\"/><path d=\"M17.41 7.96l-1.37-1.37c-.4-.4-.92-.59-1.43-.59-.52 0-1.04.2-1.43.59L10.3 9.45l-7.72 7.72c-.78.78-.78 2.05 0 2.83L4 21.41c.39.39.9.59 1.41.59.51 0 1.02-.2 1.41-.59l7.78-7.78 2.81-2.81c.8-.78.8-2.07 0-2.86zM5.41 20L4 18.59l7.72-7.72 1.47 1.35L5.41 20z\"/>\n",
              "  </svg>\n",
              "      </button>\n",
              "      \n",
              "  <style>\n",
              "    .colab-df-container {\n",
              "      display:flex;\n",
              "      flex-wrap:wrap;\n",
              "      gap: 12px;\n",
              "    }\n",
              "\n",
              "    .colab-df-convert {\n",
              "      background-color: #E8F0FE;\n",
              "      border: none;\n",
              "      border-radius: 50%;\n",
              "      cursor: pointer;\n",
              "      display: none;\n",
              "      fill: #1967D2;\n",
              "      height: 32px;\n",
              "      padding: 0 0 0 0;\n",
              "      width: 32px;\n",
              "    }\n",
              "\n",
              "    .colab-df-convert:hover {\n",
              "      background-color: #E2EBFA;\n",
              "      box-shadow: 0px 1px 2px rgba(60, 64, 67, 0.3), 0px 1px 3px 1px rgba(60, 64, 67, 0.15);\n",
              "      fill: #174EA6;\n",
              "    }\n",
              "\n",
              "    [theme=dark] .colab-df-convert {\n",
              "      background-color: #3B4455;\n",
              "      fill: #D2E3FC;\n",
              "    }\n",
              "\n",
              "    [theme=dark] .colab-df-convert:hover {\n",
              "      background-color: #434B5C;\n",
              "      box-shadow: 0px 1px 3px 1px rgba(0, 0, 0, 0.15);\n",
              "      filter: drop-shadow(0px 1px 2px rgba(0, 0, 0, 0.3));\n",
              "      fill: #FFFFFF;\n",
              "    }\n",
              "  </style>\n",
              "\n",
              "      <script>\n",
              "        const buttonEl =\n",
              "          document.querySelector('#df-d19b12b4-bd15-4017-aca0-18c63a33bb06 button.colab-df-convert');\n",
              "        buttonEl.style.display =\n",
              "          google.colab.kernel.accessAllowed ? 'block' : 'none';\n",
              "\n",
              "        async function convertToInteractive(key) {\n",
              "          const element = document.querySelector('#df-d19b12b4-bd15-4017-aca0-18c63a33bb06');\n",
              "          const dataTable =\n",
              "            await google.colab.kernel.invokeFunction('convertToInteractive',\n",
              "                                                     [key], {});\n",
              "          if (!dataTable) return;\n",
              "\n",
              "          const docLinkHtml = 'Like what you see? Visit the ' +\n",
              "            '<a target=\"_blank\" href=https://colab.research.google.com/notebooks/data_table.ipynb>data table notebook</a>'\n",
              "            + ' to learn more about interactive tables.';\n",
              "          element.innerHTML = '';\n",
              "          dataTable['output_type'] = 'display_data';\n",
              "          await google.colab.output.renderOutput(dataTable, element);\n",
              "          const docLink = document.createElement('div');\n",
              "          docLink.innerHTML = docLinkHtml;\n",
              "          element.appendChild(docLink);\n",
              "        }\n",
              "      </script>\n",
              "    </div>\n",
              "  </div>\n",
              "  "
            ]
          },
          "metadata": {},
          "execution_count": 89
        }
      ]
    },
    {
      "cell_type": "code",
      "source": [
        "# ploting heat map to see the correlation between independent and target variables after dropping columns with more number of NA values\n",
        "\n",
        "f, ax= plt.subplots(figsize = (6,4))\n",
        "plt.title(\"Correlation of Independent Numerical Variables including Target variable\")\n",
        "\n",
        "sns.heatmap(bod1[['1', '2', 'target']].corr(), square=True, vmin=-1, vmax=1)"
      ],
      "metadata": {
        "colab": {
          "base_uri": "https://localhost:8080/",
          "height": 408
        },
        "id": "5_-OsWIo9Hnm",
        "outputId": "e8148238-20dc-44b2-a5e7-03dc3542aa90"
      },
      "execution_count": 90,
      "outputs": [
        {
          "output_type": "execute_result",
          "data": {
            "text/plain": [
              "<Axes: title={'center': 'Correlation of Independent Numerical Variables including Target variable'}>"
            ]
          },
          "metadata": {},
          "execution_count": 90
        },
        {
          "output_type": "display_data",
          "data": {
            "text/plain": [
              "<Figure size 600x400 with 2 Axes>"
            ],
            "image/png": "[encoded data removed]"
          },
          "metadata": {}
        }
      ]
    },
    {
      "cell_type": "markdown",
      "source": [
        "# Outlier treatment"
      ],
      "metadata": {
        "id": "QouKU3GB0zOP"
      }
    },
    {
      "cell_type": "code",
      "source": [
        "# ploting box plot to see if there are outliers in the data\n",
        "\n",
        "sns.boxplot(x = 'target', data = bod1)"
      ],
      "metadata": {
        "colab": {
          "base_uri": "https://localhost:8080/",
          "height": 466
        },
        "id": "Gy5ULUfU02u6",
        "outputId": "be966556-23ad-42d5-c959-108e4b7dcc93"
      },
      "execution_count": 91,
      "outputs": [
        {
          "output_type": "execute_result",
          "data": {
            "text/plain": [
              "<Axes: xlabel='target'>"
            ]
          },
          "metadata": {},
          "execution_count": 91
        },
        {
          "output_type": "display_data",
          "data": {
            "text/plain": [
              "<Figure size 640x480 with 1 Axes>"
            ],
            "image/png": "[encoded data removed]"
          },
          "metadata": {}
        }
      ]
    },
    {
      "cell_type": "code",
      "source": [
        "# removing data of more than 97 percentile\n",
        "\n",
        "bod2 = bod1[bod1.target<=np.percentile(bod1.target.values, 97)]"
      ],
      "metadata": {
        "id": "ytrq4Xdv1DuL"
      },
      "execution_count": 92,
      "outputs": []
    },
    {
      "cell_type": "code",
      "source": [
        "# checking if there are still outliers after removal\n",
        "\n",
        "sns.boxplot(x = 'target', data = bod2)"
      ],
      "metadata": {
        "colab": {
          "base_uri": "https://localhost:8080/",
          "height": 466
        },
        "id": "NJ8XQVWA1S0j",
        "outputId": "c148dbd5-d3d5-436e-d420-765bed3879c6"
      },
      "execution_count": 93,
      "outputs": [
        {
          "output_type": "execute_result",
          "data": {
            "text/plain": [
              "<Axes: xlabel='target'>"
            ]
          },
          "metadata": {},
          "execution_count": 93
        },
        {
          "output_type": "display_data",
          "data": {
            "text/plain": [
              "<Figure size 640x480 with 1 Axes>"
            ],
            "image/png": "[encoded data removed]"
          },
          "metadata": {}
        }
      ]
    },
    {
      "cell_type": "code",
      "source": [
        "# checking shape after outlier treatment\n",
        "\n",
        "bod2.shape"
      ],
      "metadata": {
        "colab": {
          "base_uri": "https://localhost:8080/",
          "height": 0
        },
        "id": "TPdRxjFE1uHD",
        "outputId": "383ae8bd-8f55-4653-ba1c-a2a93d42b7ac"
      },
      "execution_count": 94,
      "outputs": [
        {
          "output_type": "execute_result",
          "data": {
            "text/plain": [
              "(139, 3)"
            ]
          },
          "metadata": {},
          "execution_count": 94
        }
      ]
    },
    {
      "cell_type": "markdown",
      "source": [
        "# Transformation"
      ],
      "metadata": {
        "id": "oDmZei3K7RFt"
      }
    },
    {
      "cell_type": "code",
      "source": [
        "# normalising columns '1' and '2' in train dataset\n",
        "\n",
        "from sklearn.preprocessing import MinMaxScaler\n",
        "scale = MinMaxScaler()\n",
        "bod2[['1_scaled']]= scale.fit_transform(bod2[['1']])\n",
        "bod2[['2_scaled']]= scale.fit_transform(bod2[['2']])"
      ],
      "metadata": {
        "colab": {
          "base_uri": "https://localhost:8080/",
          "height": 0
        },
        "id": "MXMjcWPB971l",
        "outputId": "af53dd8e-b9b2-4a9e-c918-831a8f09f330"
      },
      "execution_count": 95,
      "outputs": [
        {
          "output_type": "stream",
          "name": "stderr",
          "text": [
            "<ipython-input-95-1df57798655b>:5: SettingWithCopyWarning: \n",
            "A value is trying to be set on a copy of a slice from a DataFrame.\n",
            "Try using .loc[row_indexer,col_indexer] = value instead\n",
            "\n",
            "See the caveats in the documentation: https://pandas.pydata.org/pandas-docs/stable/user_guide/indexing.html#returning-a-view-versus-a-copy\n",
            "  bod2[['1_scaled']]= scale.fit_transform(bod2[['1']])\n",
            "<ipython-input-95-1df57798655b>:6: SettingWithCopyWarning: \n",
            "A value is trying to be set on a copy of a slice from a DataFrame.\n",
            "Try using .loc[row_indexer,col_indexer] = value instead\n",
            "\n",
            "See the caveats in the documentation: https://pandas.pydata.org/pandas-docs/stable/user_guide/indexing.html#returning-a-view-versus-a-copy\n",
            "  bod2[['2_scaled']]= scale.fit_transform(bod2[['2']])\n"
          ]
        }
      ]
    },
    {
      "cell_type": "code",
      "source": [
        "# normalising columns '1' and '2' in test dataset\n",
        "\n",
        "bodt[['1_scaled']]= scale.fit_transform(bodt[['1']])\n",
        "bodt[['2_scaled']]= scale.fit_transform(bodt[['2']])"
      ],
      "metadata": {
        "id": "l_3XmXm7KmAX"
      },
      "execution_count": 96,
      "outputs": []
    },
    {
      "cell_type": "markdown",
      "source": [
        "# Test Data Analysis"
      ],
      "metadata": {
        "id": "HYgD5q5idp0N"
      }
    },
    {
      "cell_type": "code",
      "source": [
        "# print the train dataset\n",
        "\n",
        "bodt"
      ],
      "metadata": {
        "colab": {
          "base_uri": "https://localhost:8080/",
          "height": 423
        },
        "id": "j6u6YoqVMCQO",
        "outputId": "4100bbec-61f0-4d67-edcf-a9085fbcad3d"
      },
      "execution_count": 97,
      "outputs": [
        {
          "output_type": "execute_result",
          "data": {
            "text/plain": [
              "     Id     1     2     3    4     5    6     7  1_scaled  2_scaled\n",
              "0     1  6.80  5.40   NaN  NaN   NaN  NaN   NaN  0.673203  0.455587\n",
              "1     2  4.71  4.20   NaN  NaN   NaN  NaN   NaN  0.445534  0.340974\n",
              "2    32  2.10  3.40   NaN  NaN   NaN  NaN   NaN  0.161220  0.264565\n",
              "3    40  5.35  5.85   NaN  NaN   NaN  NaN   NaN  0.515251  0.498567\n",
              "4    43  4.80  5.30   NaN  NaN   NaN  NaN   NaN  0.455338  0.446036\n",
              "..  ...   ...   ...   ...  ...   ...  ...   ...       ...       ...\n",
              "58  206  5.80  6.60  1.75  5.3  15.1  4.6  15.6  0.564270  0.570201\n",
              "59  209  3.68  4.85   NaN  NaN   NaN  NaN   NaN  0.333333  0.403056\n",
              "60  210  7.50  4.80   NaN  NaN   NaN  NaN   NaN  0.749455  0.398281\n",
              "61  215  8.00  6.80   NaN  NaN   NaN  NaN   NaN  0.803922  0.589303\n",
              "62  216  4.00  5.00   NaN  NaN   NaN  NaN   NaN  0.368192  0.417383\n",
              "\n",
              "[63 rows x 10 columns]"
            ],
            "text/html": [
              "\n",
              "  <div id=\"df-0cb97dfe-5beb-4b1f-9e85-99bd87d19cd1\">\n",
              "    <div class=\"colab-df-container\">\n",
              "      <div>\n",
              "<style scoped>\n",
              "    .dataframe tbody tr th:only-of-type {\n",
              "        vertical-align: middle;\n",
              "    }\n",
              "\n",
              "    .dataframe tbody tr th {\n",
              "        vertical-align: top;\n",
              "    }\n",
              "\n",
              "    .dataframe thead th {\n",
              "        text-align: right;\n",
              "    }\n",
              "</style>\n",
              "<table border=\"1\" class=\"dataframe\">\n",
              "  <thead>\n",
              "    <tr style=\"text-align: right;\">\n",
              "      <th></th>\n",
              "      <th>Id</th>\n",
              "      <th>1</th>\n",
              "      <th>2</th>\n",
              "      <th>3</th>\n",
              "      <th>4</th>\n",
              "      <th>5</th>\n",
              "      <th>6</th>\n",
              "      <th>7</th>\n",
              "      <th>1_scaled</th>\n",
              "      <th>2_scaled</th>\n",
              "    </tr>\n",
              "  </thead>\n",
              "  <tbody>\n",
              "    <tr>\n",
              "      <th>0</th>\n",
              "      <td>1</td>\n",
              "      <td>6.80</td>\n",
              "      <td>5.40</td>\n",
              "      <td>NaN</td>\n",
              "      <td>NaN</td>\n",
              "      <td>NaN</td>\n",
              "      <td>NaN</td>\n",
              "      <td>NaN</td>\n",
              "      <td>0.673203</td>\n",
              "      <td>0.455587</td>\n",
              "    </tr>\n",
              "    <tr>\n",
              "      <th>1</th>\n",
              "      <td>2</td>\n",
              "      <td>4.71</td>\n",
              "      <td>4.20</td>\n",
              "      <td>NaN</td>\n",
              "      <td>NaN</td>\n",
              "      <td>NaN</td>\n",
              "      <td>NaN</td>\n",
              "      <td>NaN</td>\n",
              "      <td>0.445534</td>\n",
              "      <td>0.340974</td>\n",
              "    </tr>\n",
              "    <tr>\n",
              "      <th>2</th>\n",
              "      <td>32</td>\n",
              "      <td>2.10</td>\n",
              "      <td>3.40</td>\n",
              "      <td>NaN</td>\n",
              "      <td>NaN</td>\n",
              "      <td>NaN</td>\n",
              "      <td>NaN</td>\n",
              "      <td>NaN</td>\n",
              "      <td>0.161220</td>\n",
              "      <td>0.264565</td>\n",
              "    </tr>\n",
              "    <tr>\n",
              "      <th>3</th>\n",
              "      <td>40</td>\n",
              "      <td>5.35</td>\n",
              "      <td>5.85</td>\n",
              "      <td>NaN</td>\n",
              "      <td>NaN</td>\n",
              "      <td>NaN</td>\n",
              "      <td>NaN</td>\n",
              "      <td>NaN</td>\n",
              "      <td>0.515251</td>\n",
              "      <td>0.498567</td>\n",
              "    </tr>\n",
              "    <tr>\n",
              "      <th>4</th>\n",
              "      <td>43</td>\n",
              "      <td>4.80</td>\n",
              "      <td>5.30</td>\n",
              "      <td>NaN</td>\n",
              "      <td>NaN</td>\n",
              "      <td>NaN</td>\n",
              "      <td>NaN</td>\n",
              "      <td>NaN</td>\n",
              "      <td>0.455338</td>\n",
              "      <td>0.446036</td>\n",
              "    </tr>\n",
              "    <tr>\n",
              "      <th>...</th>\n",
              "      <td>...</td>\n",
              "      <td>...</td>\n",
              "      <td>...</td>\n",
              "      <td>...</td>\n",
              "      <td>...</td>\n",
              "      <td>...</td>\n",
              "      <td>...</td>\n",
              "      <td>...</td>\n",
              "      <td>...</td>\n",
              "      <td>...</td>\n",
              "    </tr>\n",
              "    <tr>\n",
              "      <th>58</th>\n",
              "      <td>206</td>\n",
              "      <td>5.80</td>\n",
              "      <td>6.60</td>\n",
              "      <td>1.75</td>\n",
              "      <td>5.3</td>\n",
              "      <td>15.1</td>\n",
              "      <td>4.6</td>\n",
              "      <td>15.6</td>\n",
              "      <td>0.564270</td>\n",
              "      <td>0.570201</td>\n",
              "    </tr>\n",
              "    <tr>\n",
              "      <th>59</th>\n",
              "      <td>209</td>\n",
              "      <td>3.68</td>\n",
              "      <td>4.85</td>\n",
              "      <td>NaN</td>\n",
              "      <td>NaN</td>\n",
              "      <td>NaN</td>\n",
              "      <td>NaN</td>\n",
              "      <td>NaN</td>\n",
              "      <td>0.333333</td>\n",
              "      <td>0.403056</td>\n",
              "    </tr>\n",
              "    <tr>\n",
              "      <th>60</th>\n",
              "      <td>210</td>\n",
              "      <td>7.50</td>\n",
              "      <td>4.80</td>\n",
              "      <td>NaN</td>\n",
              "      <td>NaN</td>\n",
              "      <td>NaN</td>\n",
              "      <td>NaN</td>\n",
              "      <td>NaN</td>\n",
              "      <td>0.749455</td>\n",
              "      <td>0.398281</td>\n",
              "    </tr>\n",
              "    <tr>\n",
              "      <th>61</th>\n",
              "      <td>215</td>\n",
              "      <td>8.00</td>\n",
              "      <td>6.80</td>\n",
              "      <td>NaN</td>\n",
              "      <td>NaN</td>\n",
              "      <td>NaN</td>\n",
              "      <td>NaN</td>\n",
              "      <td>NaN</td>\n",
              "      <td>0.803922</td>\n",
              "      <td>0.589303</td>\n",
              "    </tr>\n",
              "    <tr>\n",
              "      <th>62</th>\n",
              "      <td>216</td>\n",
              "      <td>4.00</td>\n",
              "      <td>5.00</td>\n",
              "      <td>NaN</td>\n",
              "      <td>NaN</td>\n",
              "      <td>NaN</td>\n",
              "      <td>NaN</td>\n",
              "      <td>NaN</td>\n",
              "      <td>0.368192</td>\n",
              "      <td>0.417383</td>\n",
              "    </tr>\n",
              "  </tbody>\n",
              "</table>\n",
              "<p>63 rows × 10 columns</p>\n",
              "</div>\n",
              "      <button class=\"colab-df-convert\" onclick=\"convertToInteractive('df-0cb97dfe-5beb-4b1f-9e85-99bd87d19cd1')\"\n",
              "              title=\"Convert this dataframe to an interactive table.\"\n",
              "              style=\"display:none;\">\n",
              "        \n",
              "  <svg xmlns=\"http://www.w3.org/2000/svg\" height=\"24px\"viewBox=\"0 0 24 24\"\n",
              "       width=\"24px\">\n",
              "    <path d=\"M0 0h24v24H0V0z\" fill=\"none\"/>\n",
              "    <path d=\"M18.56 5.44l.94 2.06.94-2.06 2.06-.94-2.06-.94-.94-2.06-.94 2.06-2.06.94zm-11 1L8.5 8.5l.94-2.06 2.06-.94-2.06-.94L8.5 2.5l-.94 2.06-2.06.94zm10 10l.94 2.06.94-2.06 2.06-.94-2.06-.94-.94-2.06-.94 2.06-2.06.94z\"/><path d=\"M17.41 7.96l-1.37-1.37c-.4-.4-.92-.59-1.43-.59-.52 0-1.04.2-1.43.59L10.3 9.45l-7.72 7.72c-.78.78-.78 2.05 0 2.83L4 21.41c.39.39.9.59 1.41.59.51 0 1.02-.2 1.41-.59l7.78-7.78 2.81-2.81c.8-.78.8-2.07 0-2.86zM5.41 20L4 18.59l7.72-7.72 1.47 1.35L5.41 20z\"/>\n",
              "  </svg>\n",
              "      </button>\n",
              "      \n",
              "  <style>\n",
              "    .colab-df-container {\n",
              "      display:flex;\n",
              "      flex-wrap:wrap;\n",
              "      gap: 12px;\n",
              "    }\n",
              "\n",
              "    .colab-df-convert {\n",
              "      background-color: #E8F0FE;\n",
              "      border: none;\n",
              "      border-radius: 50%;\n",
              "      cursor: pointer;\n",
              "      display: none;\n",
              "      fill: #1967D2;\n",
              "      height: 32px;\n",
              "      padding: 0 0 0 0;\n",
              "      width: 32px;\n",
              "    }\n",
              "\n",
              "    .colab-df-convert:hover {\n",
              "      background-color: #E2EBFA;\n",
              "      box-shadow: 0px 1px 2px rgba(60, 64, 67, 0.3), 0px 1px 3px 1px rgba(60, 64, 67, 0.15);\n",
              "      fill: #174EA6;\n",
              "    }\n",
              "\n",
              "    [theme=dark] .colab-df-convert {\n",
              "      background-color: #3B4455;\n",
              "      fill: #D2E3FC;\n",
              "    }\n",
              "\n",
              "    [theme=dark] .colab-df-convert:hover {\n",
              "      background-color: #434B5C;\n",
              "      box-shadow: 0px 1px 3px 1px rgba(0, 0, 0, 0.15);\n",
              "      filter: drop-shadow(0px 1px 2px rgba(0, 0, 0, 0.3));\n",
              "      fill: #FFFFFF;\n",
              "    }\n",
              "  </style>\n",
              "\n",
              "      <script>\n",
              "        const buttonEl =\n",
              "          document.querySelector('#df-0cb97dfe-5beb-4b1f-9e85-99bd87d19cd1 button.colab-df-convert');\n",
              "        buttonEl.style.display =\n",
              "          google.colab.kernel.accessAllowed ? 'block' : 'none';\n",
              "\n",
              "        async function convertToInteractive(key) {\n",
              "          const element = document.querySelector('#df-0cb97dfe-5beb-4b1f-9e85-99bd87d19cd1');\n",
              "          const dataTable =\n",
              "            await google.colab.kernel.invokeFunction('convertToInteractive',\n",
              "                                                     [key], {});\n",
              "          if (!dataTable) return;\n",
              "\n",
              "          const docLinkHtml = 'Like what you see? Visit the ' +\n",
              "            '<a target=\"_blank\" href=https://colab.research.google.com/notebooks/data_table.ipynb>data table notebook</a>'\n",
              "            + ' to learn more about interactive tables.';\n",
              "          element.innerHTML = '';\n",
              "          dataTable['output_type'] = 'display_data';\n",
              "          await google.colab.output.renderOutput(dataTable, element);\n",
              "          const docLink = document.createElement('div');\n",
              "          docLink.innerHTML = docLinkHtml;\n",
              "          element.appendChild(docLink);\n",
              "        }\n",
              "      </script>\n",
              "    </div>\n",
              "  </div>\n",
              "  "
            ]
          },
          "metadata": {},
          "execution_count": 97
        }
      ]
    },
    {
      "cell_type": "code",
      "source": [
        "# checking the shape of test dataset\n",
        "\n",
        "bodt.shape"
      ],
      "metadata": {
        "colab": {
          "base_uri": "https://localhost:8080/",
          "height": 0
        },
        "outputId": "c663f4ff-4ca6-4c11-9633-d917d6240772",
        "id": "-oSwNCvzMN6W"
      },
      "execution_count": 98,
      "outputs": [
        {
          "output_type": "execute_result",
          "data": {
            "text/plain": [
              "(63, 10)"
            ]
          },
          "metadata": {},
          "execution_count": 98
        }
      ]
    },
    {
      "cell_type": "code",
      "source": [
        "# checking the columns of test dataset\n",
        "\n",
        "bodt.columns"
      ],
      "metadata": {
        "colab": {
          "base_uri": "https://localhost:8080/",
          "height": 0
        },
        "id": "kccXBs-wd1A8",
        "outputId": "598bc7d8-f47b-454f-9fd6-4dcebb8b9201"
      },
      "execution_count": 99,
      "outputs": [
        {
          "output_type": "execute_result",
          "data": {
            "text/plain": [
              "Index(['Id', '1', '2', '3', '4', '5', '6', '7', '1_scaled', '2_scaled'], dtype='object')"
            ]
          },
          "metadata": {},
          "execution_count": 99
        }
      ]
    },
    {
      "cell_type": "code",
      "source": [
        "# checking the datatypes of columns of test dataset\n",
        "\n",
        "bodt.dtypes"
      ],
      "metadata": {
        "colab": {
          "base_uri": "https://localhost:8080/",
          "height": 0
        },
        "id": "NbjBZD33ePPF",
        "outputId": "cb786f6a-5abb-4edc-dfd0-f7fc2da10128"
      },
      "execution_count": 100,
      "outputs": [
        {
          "output_type": "execute_result",
          "data": {
            "text/plain": [
              "Id            int64\n",
              "1           float64\n",
              "2           float64\n",
              "3           float64\n",
              "4           float64\n",
              "5           float64\n",
              "6           float64\n",
              "7           float64\n",
              "1_scaled    float64\n",
              "2_scaled    float64\n",
              "dtype: object"
            ]
          },
          "metadata": {},
          "execution_count": 100
        }
      ]
    },
    {
      "cell_type": "code",
      "source": [
        "# checking the unique values of columns of test dataset\n",
        "\n",
        "bodt.nunique()"
      ],
      "metadata": {
        "colab": {
          "base_uri": "https://localhost:8080/",
          "height": 0
        },
        "id": "d79eILhJeU9s",
        "outputId": "47555f95-cc18-48a5-9bd3-b5aeb9a0dd43"
      },
      "execution_count": 101,
      "outputs": [
        {
          "output_type": "execute_result",
          "data": {
            "text/plain": [
              "Id          63\n",
              "1           50\n",
              "2           46\n",
              "3           15\n",
              "4           15\n",
              "5           16\n",
              "6           13\n",
              "7           14\n",
              "1_scaled    50\n",
              "2_scaled    46\n",
              "dtype: int64"
            ]
          },
          "metadata": {},
          "execution_count": 101
        }
      ]
    },
    {
      "cell_type": "code",
      "source": [
        "# checking the missing values in test dataset\n",
        "\n",
        "bodt.isna().sum()"
      ],
      "metadata": {
        "colab": {
          "base_uri": "https://localhost:8080/",
          "height": 0
        },
        "id": "ASowH856eahN",
        "outputId": "c14ae976-b467-4ec5-ecca-6b97afa33b62"
      },
      "execution_count": 102,
      "outputs": [
        {
          "output_type": "execute_result",
          "data": {
            "text/plain": [
              "Id           0\n",
              "1            0\n",
              "2            0\n",
              "3           48\n",
              "4           48\n",
              "5           47\n",
              "6           49\n",
              "7           49\n",
              "1_scaled     0\n",
              "2_scaled     0\n",
              "dtype: int64"
            ]
          },
          "metadata": {},
          "execution_count": 102
        }
      ]
    },
    {
      "cell_type": "code",
      "source": [
        "# droping unnecessary columns and the columns having missing values in test dataset\n",
        "\n",
        "bodt = bodt.drop(['Id','3','4','5','6','7'], axis = 1)\n",
        "bodt = bodt.dropna()"
      ],
      "metadata": {
        "id": "xruXVVfCegUB"
      },
      "execution_count": 103,
      "outputs": []
    },
    {
      "cell_type": "code",
      "source": [
        "# checking if there's still any missing values in test dataset\n",
        "\n",
        "bodt.isna().sum()"
      ],
      "metadata": {
        "colab": {
          "base_uri": "https://localhost:8080/",
          "height": 0
        },
        "id": "hc96uvfwevGZ",
        "outputId": "14aebf23-7089-4d8c-84d5-ab26c31d0a4e"
      },
      "execution_count": 104,
      "outputs": [
        {
          "output_type": "execute_result",
          "data": {
            "text/plain": [
              "1           0\n",
              "2           0\n",
              "1_scaled    0\n",
              "2_scaled    0\n",
              "dtype: int64"
            ]
          },
          "metadata": {},
          "execution_count": 104
        }
      ]
    },
    {
      "cell_type": "code",
      "source": [
        "# checking the shape after imputing missing values in test dataset\n",
        "\n",
        "bodt.shape"
      ],
      "metadata": {
        "colab": {
          "base_uri": "https://localhost:8080/",
          "height": 0
        },
        "id": "LHX3iA0MexQV",
        "outputId": "6bf560bc-9a3d-47df-a76a-fc6a885934ab"
      },
      "execution_count": 105,
      "outputs": [
        {
          "output_type": "execute_result",
          "data": {
            "text/plain": [
              "(63, 4)"
            ]
          },
          "metadata": {},
          "execution_count": 105
        }
      ]
    },
    {
      "cell_type": "markdown",
      "source": [
        "# Modeling"
      ],
      "metadata": {
        "id": "qXjxLAq5Cji7"
      }
    },
    {
      "cell_type": "markdown",
      "source": [
        "### Spliting"
      ],
      "metadata": {
        "id": "v1XlA2W_Cwcy"
      }
    },
    {
      "cell_type": "code",
      "source": [
        "# spliting train dataset into train data and validation data\n",
        "\n",
        "from sklearn.model_selection import train_test_split\n",
        "\n",
        "X = bod2.drop('target', axis=1)\n",
        "y = bod2['target']\n",
        "\n",
        "# split train data into two parts\n",
        "# while spliting, 80% will be train data and 20% will be validation data.\n",
        "X_train, X_val, y_train, y_val = train_test_split(X, y, test_size=0.2, random_state=2)"
      ],
      "metadata": {
        "id": "gF_dEzRB-Jca"
      },
      "execution_count": 106,
      "outputs": []
    },
    {
      "cell_type": "markdown",
      "source": [
        "### Defining function for modeling"
      ],
      "metadata": {
        "id": "5zapsTXLDmb2"
      }
    },
    {
      "cell_type": "code",
      "source": [
        "# defining functions for modeling\n",
        "\n",
        "from sklearn.metrics import mean_squared_error\n",
        "from sklearn.metrics import mean_absolute_error\n",
        "from sklearn.metrics import r2_score\n",
        "from sklearn.model_selection import cross_val_score\n",
        "\n",
        "def model(regressor,X_train,y_train,X_val,y_val):\n",
        "\n",
        "    regressor.fit(X_train,y_train)\n",
        "    y_pred = regressor.predict(X_val)\n",
        "\n",
        "def model_evaluation(regressor,X_val,y_val):\n",
        "\n",
        "    mse = mean_squared_error(y_val, regressor.predict(X_val))\n",
        "    mae = mean_absolute_error(y_val, regressor.predict(X_val))\n",
        "    r2 = r2_score(y_val, regressor.predict(X_val))\n",
        "    cv_scores = cross_val_score(regressor, X_train, y_train, cv=5)\n",
        "    print(\"MSE =\", mse, \"\\n MAE =\", mae, \"\\n r2 =\", r2, \"\\n Cross validation scores =\", cv_scores.mean())"
      ],
      "metadata": {
        "id": "_RJ9lh4xCLFT"
      },
      "execution_count": 107,
      "outputs": []
    },
    {
      "cell_type": "markdown",
      "source": [
        "### Linear Regression"
      ],
      "metadata": {
        "id": "VHxPJ-4yC1K6"
      }
    },
    {
      "cell_type": "code",
      "source": [
        "# modeling using linear regression\n",
        "\n",
        "from sklearn.linear_model import LinearRegression\n",
        "\n",
        "# making object of the regressor\n",
        "\n",
        "regressor_lin_reg = LinearRegression()\n",
        "\n",
        "# calling previously defined function\n",
        "\n",
        "model(regressor_lin_reg,X_train,y_train,X_val,y_val)\n",
        "model_evaluation(regressor_lin_reg,X_val,y_val)"
      ],
      "metadata": {
        "colab": {
          "base_uri": "https://localhost:8080/",
          "height": 0
        },
        "id": "CSin6yySGIbK",
        "outputId": "ca32b9d7-4f6c-4fdc-9214-263216c91887"
      },
      "execution_count": 108,
      "outputs": [
        {
          "output_type": "stream",
          "name": "stdout",
          "text": [
            "MSE = 0.9814262462636202 \n",
            " MAE = 0.773647164470555 \n",
            " r2 = 0.6129129256416272 \n",
            " Cross validation scores = 0.47329377594271876\n"
          ]
        }
      ]
    },
    {
      "cell_type": "code",
      "source": [
        "# plotting regression plot of actual vs predicted with regression line\n",
        "g = sns.regplot(x = regressor_lin_reg.fit(X_train,y_train).predict(X_val), y = y_val, fit_reg=True)\n",
        "g.set(xlabel='Predicted', ylabel='Actual', title='Model Predictions')\n",
        "plt.title('Regression Plot for Actual vs Predicted Values')"
      ],
      "metadata": {
        "colab": {
          "base_uri": "https://localhost:8080/",
          "height": 489
        },
        "id": "538lIEELrinD",
        "outputId": "00c363e4-65db-4131-8750-9e8ef70dcef1"
      },
      "execution_count": 109,
      "outputs": [
        {
          "output_type": "execute_result",
          "data": {
            "text/plain": [
              "Text(0.5, 1.0, 'Regression Plot for Actual vs Predicted Values')"
            ]
          },
          "metadata": {},
          "execution_count": 109
        },
        {
          "output_type": "display_data",
          "data": {
            "text/plain": [
              "<Figure size 640x480 with 1 Axes>"
            ],
            "image/png": "[encoded data removed]"
          },
          "metadata": {}
        }
      ]
    },
    {
      "cell_type": "markdown",
      "source": [
        "### Decision Tree Regressor"
      ],
      "metadata": {
        "id": "xUu7zU7JMlrn"
      }
    },
    {
      "cell_type": "code",
      "source": [
        "# modeling using decision tree\n",
        "\n",
        "from sklearn.tree import DecisionTreeRegressor\n",
        "\n",
        "# making object of the regressor\n",
        "\n",
        "regressor_dt_reg = DecisionTreeRegressor()\n",
        "\n",
        "# calling previously defined function\n",
        "\n",
        "model(regressor_dt_reg,X_train,y_train,X_val,y_val)\n",
        "model_evaluation(regressor_dt_reg,X_val,y_val)"
      ],
      "metadata": {
        "colab": {
          "base_uri": "https://localhost:8080/",
          "height": 0
        },
        "id": "WykEBcv8Gy96",
        "outputId": "1c219ded-15aa-4cf3-c751-be65decb5144"
      },
      "execution_count": 110,
      "outputs": [
        {
          "output_type": "stream",
          "name": "stdout",
          "text": [
            "MSE = 3.1309857142857145 \n",
            " MAE = 1.4092857142857145 \n",
            " r2 = -0.23490084416916246 \n",
            " Cross validation scores = 0.02361446899643327\n"
          ]
        }
      ]
    },
    {
      "cell_type": "code",
      "source": [
        "# Convert the actual and predicted values to numpy arrays\n",
        "y_actual = np.array(y_val)\n",
        "y_predicted = np.array(regressor_dt_reg.fit(X_train,y_train).predict(X_val))\n",
        "\n",
        "# Sort the actual and predicted values based on the actual values\n",
        "sorted_indexes = np.argsort(y_actual)\n",
        "y_actual_sorted = y_actual[sorted_indexes]\n",
        "y_predicted_sorted = y_predicted[sorted_indexes]\n",
        "\n",
        "plt.scatter(range(len(y_actual_sorted)), y_actual_sorted, color='b', label='Actual')\n",
        "plt.scatter(range(len(y_predicted_sorted)), y_predicted_sorted, color='r', label='Predicted')\n",
        "\n",
        "# Add labels and legend\n",
        "plt.xlabel('Sample Index')\n",
        "plt.ylabel('Target Value')\n",
        "plt.legend()\n",
        "\n",
        "# Show the plot\n",
        "plt.show()"
      ],
      "metadata": {
        "id": "ln9Yn81OMtje",
        "colab": {
          "base_uri": "https://localhost:8080/",
          "height": 449
        },
        "outputId": "0bb5a5b2-1647-4e85-b3ae-3edac849d917"
      },
      "execution_count": 111,
      "outputs": [
        {
          "output_type": "display_data",
          "data": {
            "text/plain": [
              "<Figure size 640x480 with 1 Axes>"
            ],
            "image/png": "[encoded data removed]"
          },
          "metadata": {}
        }
      ]
    },
    {
      "cell_type": "markdown",
      "source": [
        "### Random Forest Regressor"
      ],
      "metadata": {
        "id": "cwlQtUsjMxhW"
      }
    },
    {
      "cell_type": "code",
      "source": [
        "# modeling using decision tree\n",
        "\n",
        "from sklearn.ensemble import RandomForestRegressor\n",
        "from sklearn.model_selection import GridSearchCV\n",
        "from sklearn.metrics import make_scorer\n",
        "\n",
        "# making object of the regressor\n",
        "\n",
        "regressor_rf_reg = RandomForestRegressor(criterion = 'absolute_error', random_state = 11)\n",
        "\n",
        "# Create the parameters list you wish to tune, using a dictionary.\n",
        "parameters = {'max_depth' : np.arange(1,10,1,dtype = int),\n",
        "              'n_estimators': [5, 10, 15]\n",
        "              }\n",
        "\n",
        "# Make an r2_score scoring object using make_scorer()\n",
        "scorer = make_scorer(r2_score)\n",
        "\n",
        "# Performing grid search on the regressor using 'scorer' as the scoring method using GridSearchCV()\n",
        "grid_obj = GridSearchCV(regressor_rf_reg, parameters, scoring = scorer, cv = 5)\n",
        "\n",
        "# Fitting the grid search object to the training data and find the optimal parameters using fit()\n",
        "grid_fit = grid_obj.fit(X_train, y_train)\n",
        "\n",
        "# Get the estimator\n",
        "best_regrf = grid_fit.best_estimator_\n",
        "\n",
        "# Making predictions using the unoptimized and optimized model\n",
        "predictions = (regressor_rf_reg.fit(X_train, y_train)).predict(X_val)\n",
        "best_predictions = best_regrf.predict(X_val)\n",
        "\n",
        "# storing the model evaluation metrics\n",
        "\n",
        "mse = mean_squared_error(y_val, predictions)\n",
        "mae = mean_absolute_error(y_val, predictions)\n",
        "r2 = r2_score(y_val, predictions)\n",
        "\n",
        "mseopt = mean_squared_error(y_val, best_predictions)\n",
        "maeopt = mean_absolute_error(y_val, best_predictions)\n",
        "r2opt = r2_score(y_val, best_predictions)\n",
        "\n",
        "# printing the model evaluation metrics\n",
        "\n",
        "print(\"MSE without optimisation =\", mse)\n",
        "print(\"MAE without optimisation =\", mae)\n",
        "print(\"R2 without optimisation =\", r2)\n",
        "print(\"\\n\")\n",
        "print(\"MSE with optimisation =\", mseopt)\n",
        "print(\"MAE with optimisation =\", maeopt)\n",
        "print(\"R2 with optimisation =\", r2opt)"
      ],
      "metadata": {
        "id": "gl23VuogM4ng",
        "colab": {
          "base_uri": "https://localhost:8080/",
          "height": 0
        },
        "outputId": "065c6b3d-0f60-47d7-ff15-f71bd30a21f2"
      },
      "execution_count": 112,
      "outputs": [
        {
          "output_type": "stream",
          "name": "stdout",
          "text": [
            "MSE without optimisation = 1.3308225870535686\n",
            "MAE without optimisation = 0.9420196428571417\n",
            "R2 without optimisation = 0.4751065363558311\n",
            "\n",
            "\n",
            "MSE with optimisation = 1.0069650714285718\n",
            "MAE with optimisation = 0.7392142857142859\n",
            "R2 with optimisation = 0.6028400860846184\n"
          ]
        }
      ]
    },
    {
      "cell_type": "code",
      "source": [
        "# Convert the actual and predicted values to numpy arrays\n",
        "y_actual = np.array(y_val)\n",
        "y_predicted = np.array(best_predictions)\n",
        "\n",
        "# Sort the actual and predicted values based on the actual values\n",
        "sorted_indexes = np.argsort(y_actual)\n",
        "y_actual_sorted = y_actual[sorted_indexes]\n",
        "y_predicted_sorted = y_predicted[sorted_indexes]\n",
        "\n",
        "plt.scatter(range(len(y_actual_sorted)), y_actual_sorted, color='b', label='Actual')\n",
        "plt.scatter(range(len(y_predicted_sorted)), y_predicted_sorted, color='r', label='Predicted')\n",
        "\n",
        "# Add labels and legend\n",
        "plt.xlabel('Sample Index')\n",
        "plt.ylabel('Target Value')\n",
        "plt.legend()\n",
        "\n",
        "# Show the plot\n",
        "plt.show()"
      ],
      "metadata": {
        "colab": {
          "base_uri": "https://localhost:8080/",
          "height": 449
        },
        "id": "40Giz5HXru6-",
        "outputId": "5d9c23e2-ceaf-4bba-a35d-f10b68fa949a"
      },
      "execution_count": 113,
      "outputs": [
        {
          "output_type": "display_data",
          "data": {
            "text/plain": [
              "<Figure size 640x480 with 1 Axes>"
            ],
            "image/png": "[encoded data removed]"
          },
          "metadata": {}
        }
      ]
    },
    {
      "cell_type": "markdown",
      "source": [
        "### XGB Regressor"
      ],
      "metadata": {
        "id": "98h7JafENrDK"
      }
    },
    {
      "cell_type": "code",
      "source": [
        "# modeling using XGB Regressor\n",
        "\n",
        "from xgboost import XGBRegressor\n",
        "\n",
        "# making object of the regressor\n",
        "\n",
        "regressor_xgb_reg = XGBRegressor()\n",
        "\n",
        "# Create the parameters list you wish to tune, using a dictionary if needed.\n",
        "parameters = {'max_depth' : np.arange(1,10,1,dtype = int),\n",
        "              'colsample_bytree' : (0.8, 0.9, 0.1),\n",
        "              'n_estimators': [5, 10, 15],\n",
        "               'subsample' : (0.5, 0.8, 0.1)\n",
        "              }\n",
        "\n",
        "# Make an r2_score scoring object using make_scorer()\n",
        "scorer = make_scorer(r2_score)\n",
        "\n",
        "# Performing grid search on the regressor using 'scorer' as the scoring method using GridSearchCV()\n",
        "grid_obj = GridSearchCV(regressor_xgb_reg, parameters, scoring = scorer, cv = 5)\n",
        "\n",
        "# Fitting the grid search object to the training data and find the optimal parameters using fit()\n",
        "grid_fit = grid_obj.fit(X_train, y_train)\n",
        "\n",
        "# Get the estimator\n",
        "best_regxgb = grid_fit.best_estimator_\n",
        "\n",
        "# Making predictions using the unoptimized and optimized model\n",
        "predictions = (regressor_xgb_reg.fit(X_train, y_train)).predict(X_val)\n",
        "best_predictions = best_regxgb.predict(X_val)\n",
        "\n",
        "# storing the model evaluation metrics\n",
        "\n",
        "mse = mean_squared_error(y_val, predictions)\n",
        "mae = mean_absolute_error(y_val, predictions)\n",
        "r2 = r2_score(y_val, predictions)\n",
        "\n",
        "mseopt = mean_squared_error(y_val, best_predictions)\n",
        "maeopt = mean_absolute_error(y_val, best_predictions)\n",
        "r2opt = r2_score(y_val, best_predictions)\n",
        "\n",
        "# printing the model evaluation metrics\n",
        "\n",
        "print(\"MSE without optimisation =\", mse)\n",
        "print(\"MAE without optimisation =\", mae)\n",
        "print(\"R2 without optimisation =\", r2)\n",
        "print(\"\\n\")\n",
        "print(\"MSE with optimisation =\", mseopt)\n",
        "print(\"MAE with optimisation =\", maeopt)\n",
        "print(\"R2 with optimisation =\", r2opt)"
      ],
      "metadata": {
        "id": "vsvOzE4SNu9B",
        "colab": {
          "base_uri": "https://localhost:8080/",
          "height": 0
        },
        "outputId": "8a82acee-607c-40f1-929f-850f9eb8a0f3"
      },
      "execution_count": 114,
      "outputs": [
        {
          "output_type": "stream",
          "name": "stdout",
          "text": [
            "MSE without optimisation = 2.009607685809739\n",
            "MAE without optimisation = 1.1053130166871206\n",
            "R2 without optimisation = 0.20738500455872022\n",
            "\n",
            "\n",
            "MSE with optimisation = 0.9294246213770881\n",
            "MAE with optimisation = 0.7489943265914916\n",
            "R2 with optimisation = 0.6334230321481965\n"
          ]
        }
      ]
    },
    {
      "cell_type": "code",
      "source": [
        "# Convert the actual and predicted values to numpy arrays\n",
        "y_actual = np.array(y_val)\n",
        "y_predicted = np.array(best_predictions)\n",
        "\n",
        "# Sort the actual and predicted values based on the actual values\n",
        "sorted_indexes = np.argsort(y_actual)\n",
        "y_actual_sorted = y_actual[sorted_indexes]\n",
        "y_predicted_sorted = y_predicted[sorted_indexes]\n",
        "\n",
        "plt.scatter(range(len(y_actual_sorted)), y_actual_sorted, color='b', label='Actual')\n",
        "plt.scatter(range(len(y_predicted_sorted)), y_predicted_sorted, color='r', label='Predicted')\n",
        "\n",
        "# Add labels and legend\n",
        "plt.xlabel('Sample Index')\n",
        "plt.ylabel('Target Value')\n",
        "plt.legend()\n",
        "\n",
        "# Show the plot\n",
        "plt.show()"
      ],
      "metadata": {
        "colab": {
          "base_uri": "https://localhost:8080/",
          "height": 449
        },
        "id": "89WYD-s6rzou",
        "outputId": "7d1820e4-9440-4bba-aa4a-da847863d943"
      },
      "execution_count": 115,
      "outputs": [
        {
          "output_type": "display_data",
          "data": {
            "text/plain": [
              "<Figure size 640x480 with 1 Axes>"
            ],
            "image/png": "[encoded data removed]"
          },
          "metadata": {}
        }
      ]
    },
    {
      "cell_type": "markdown",
      "source": [
        "# Evaluation Table"
      ],
      "metadata": {
        "id": "ce-N0Xobr320"
      }
    },
    {
      "cell_type": "code",
      "source": [
        "# Define the dataframe for evaluation of models\n",
        "d = {\n",
        "    \"Models\" : [\"MSE\", \"MAE\", \"R2 score\", \"CV score\"],\n",
        "    \"Linear Regresion\" : [0.9814262462636202, 0.773647164470555, 0.6129129256416272, 0.47329377594271876],\n",
        "    \"Decision Tree\" : [3.2715464285714284, 1.4375000000000002, -0.290339789143093, 0.08153282914644133],\n",
        "    \"Random Forest\" : [1.0069650714285718, 0.7392142857142859, 0.6028400860846184, 0.4456372960397624],\n",
        "    \"Xgboost \" : [0.9294246213770881, 0.7489943265914916, 0.6334230321481965, 0.4274369048394265]\n",
        "}\n",
        "\n",
        "d = pd.DataFrame(d)\n",
        "d"
      ],
      "metadata": {
        "colab": {
          "base_uri": "https://localhost:8080/",
          "height": 175
        },
        "id": "JYd-uyerr9pl",
        "outputId": "4f172801-dabf-40a3-f888-55acb88896b7"
      },
      "execution_count": 116,
      "outputs": [
        {
          "output_type": "execute_result",
          "data": {
            "text/plain": [
              "     Models  Linear Regresion  Decision Tree  Random Forest  Xgboost \n",
              "0       MSE          0.981426       3.271546       1.006965  0.929425\n",
              "1       MAE          0.773647       1.437500       0.739214  0.748994\n",
              "2  R2 score          0.612913      -0.290340       0.602840  0.633423\n",
              "3  CV score          0.473294       0.081533       0.445637  0.427437"
            ],
            "text/html": [
              "\n",
              "  <div id=\"df-bd19a975-4055-4d2f-8d66-b9f58a891014\">\n",
              "    <div class=\"colab-df-container\">\n",
              "      <div>\n",
              "<style scoped>\n",
              "    .dataframe tbody tr th:only-of-type {\n",
              "        vertical-align: middle;\n",
              "    }\n",
              "\n",
              "    .dataframe tbody tr th {\n",
              "        vertical-align: top;\n",
              "    }\n",
              "\n",
              "    .dataframe thead th {\n",
              "        text-align: right;\n",
              "    }\n",
              "</style>\n",
              "<table border=\"1\" class=\"dataframe\">\n",
              "  <thead>\n",
              "    <tr style=\"text-align: right;\">\n",
              "      <th></th>\n",
              "      <th>Models</th>\n",
              "      <th>Linear Regresion</th>\n",
              "      <th>Decision Tree</th>\n",
              "      <th>Random Forest</th>\n",
              "      <th>Xgboost</th>\n",
              "    </tr>\n",
              "  </thead>\n",
              "  <tbody>\n",
              "    <tr>\n",
              "      <th>0</th>\n",
              "      <td>MSE</td>\n",
              "      <td>0.981426</td>\n",
              "      <td>3.271546</td>\n",
              "      <td>1.006965</td>\n",
              "      <td>0.929425</td>\n",
              "    </tr>\n",
              "    <tr>\n",
              "      <th>1</th>\n",
              "      <td>MAE</td>\n",
              "      <td>0.773647</td>\n",
              "      <td>1.437500</td>\n",
              "      <td>0.739214</td>\n",
              "      <td>0.748994</td>\n",
              "    </tr>\n",
              "    <tr>\n",
              "      <th>2</th>\n",
              "      <td>R2 score</td>\n",
              "      <td>0.612913</td>\n",
              "      <td>-0.290340</td>\n",
              "      <td>0.602840</td>\n",
              "      <td>0.633423</td>\n",
              "    </tr>\n",
              "    <tr>\n",
              "      <th>3</th>\n",
              "      <td>CV score</td>\n",
              "      <td>0.473294</td>\n",
              "      <td>0.081533</td>\n",
              "      <td>0.445637</td>\n",
              "      <td>0.427437</td>\n",
              "    </tr>\n",
              "  </tbody>\n",
              "</table>\n",
              "</div>\n",
              "      <button class=\"colab-df-convert\" onclick=\"convertToInteractive('df-bd19a975-4055-4d2f-8d66-b9f58a891014')\"\n",
              "              title=\"Convert this dataframe to an interactive table.\"\n",
              "              style=\"display:none;\">\n",
              "        \n",
              "  <svg xmlns=\"http://www.w3.org/2000/svg\" height=\"24px\"viewBox=\"0 0 24 24\"\n",
              "       width=\"24px\">\n",
              "    <path d=\"M0 0h24v24H0V0z\" fill=\"none\"/>\n",
              "    <path d=\"M18.56 5.44l.94 2.06.94-2.06 2.06-.94-2.06-.94-.94-2.06-.94 2.06-2.06.94zm-11 1L8.5 8.5l.94-2.06 2.06-.94-2.06-.94L8.5 2.5l-.94 2.06-2.06.94zm10 10l.94 2.06.94-2.06 2.06-.94-2.06-.94-.94-2.06-.94 2.06-2.06.94z\"/><path d=\"M17.41 7.96l-1.37-1.37c-.4-.4-.92-.59-1.43-.59-.52 0-1.04.2-1.43.59L10.3 9.45l-7.72 7.72c-.78.78-.78 2.05 0 2.83L4 21.41c.39.39.9.59 1.41.59.51 0 1.02-.2 1.41-.59l7.78-7.78 2.81-2.81c.8-.78.8-2.07 0-2.86zM5.41 20L4 18.59l7.72-7.72 1.47 1.35L5.41 20z\"/>\n",
              "  </svg>\n",
              "      </button>\n",
              "      \n",
              "  <style>\n",
              "    .colab-df-container {\n",
              "      display:flex;\n",
              "      flex-wrap:wrap;\n",
              "      gap: 12px;\n",
              "    }\n",
              "\n",
              "    .colab-df-convert {\n",
              "      background-color: #E8F0FE;\n",
              "      border: none;\n",
              "      border-radius: 50%;\n",
              "      cursor: pointer;\n",
              "      display: none;\n",
              "      fill: #1967D2;\n",
              "      height: 32px;\n",
              "      padding: 0 0 0 0;\n",
              "      width: 32px;\n",
              "    }\n",
              "\n",
              "    .colab-df-convert:hover {\n",
              "      background-color: #E2EBFA;\n",
              "      box-shadow: 0px 1px 2px rgba(60, 64, 67, 0.3), 0px 1px 3px 1px rgba(60, 64, 67, 0.15);\n",
              "      fill: #174EA6;\n",
              "    }\n",
              "\n",
              "    [theme=dark] .colab-df-convert {\n",
              "      background-color: #3B4455;\n",
              "      fill: #D2E3FC;\n",
              "    }\n",
              "\n",
              "    [theme=dark] .colab-df-convert:hover {\n",
              "      background-color: #434B5C;\n",
              "      box-shadow: 0px 1px 3px 1px rgba(0, 0, 0, 0.15);\n",
              "      filter: drop-shadow(0px 1px 2px rgba(0, 0, 0, 0.3));\n",
              "      fill: #FFFFFF;\n",
              "    }\n",
              "  </style>\n",
              "\n",
              "      <script>\n",
              "        const buttonEl =\n",
              "          document.querySelector('#df-bd19a975-4055-4d2f-8d66-b9f58a891014 button.colab-df-convert');\n",
              "        buttonEl.style.display =\n",
              "          google.colab.kernel.accessAllowed ? 'block' : 'none';\n",
              "\n",
              "        async function convertToInteractive(key) {\n",
              "          const element = document.querySelector('#df-bd19a975-4055-4d2f-8d66-b9f58a891014');\n",
              "          const dataTable =\n",
              "            await google.colab.kernel.invokeFunction('convertToInteractive',\n",
              "                                                     [key], {});\n",
              "          if (!dataTable) return;\n",
              "\n",
              "          const docLinkHtml = 'Like what you see? Visit the ' +\n",
              "            '<a target=\"_blank\" href=https://colab.research.google.com/notebooks/data_table.ipynb>data table notebook</a>'\n",
              "            + ' to learn more about interactive tables.';\n",
              "          element.innerHTML = '';\n",
              "          dataTable['output_type'] = 'display_data';\n",
              "          await google.colab.output.renderOutput(dataTable, element);\n",
              "          const docLink = document.createElement('div');\n",
              "          docLink.innerHTML = docLinkHtml;\n",
              "          element.appendChild(docLink);\n",
              "        }\n",
              "      </script>\n",
              "    </div>\n",
              "  </div>\n",
              "  "
            ]
          },
          "metadata": {},
          "execution_count": 116
        }
      ]
    },
    {
      "cell_type": "markdown",
      "source": [
        "# Testing"
      ],
      "metadata": {
        "id": "qqpJTkwINDUk"
      }
    },
    {
      "cell_type": "markdown",
      "source": [
        "### Linear regression"
      ],
      "metadata": {
        "id": "vzqWMkZLNpVd"
      }
    },
    {
      "cell_type": "code",
      "source": [
        "# predicting on test dataset using linear regression\n",
        "\n",
        "y_pred_linreg = regressor_lin_reg.predict(bodt)\n",
        "y_pred_linreg"
      ],
      "metadata": {
        "colab": {
          "base_uri": "https://localhost:8080/",
          "height": 0
        },
        "id": "CN-xgygTNGVW",
        "outputId": "d5f9968f-9ca3-4fd8-81ef-85c0b734b0de"
      },
      "execution_count": 117,
      "outputs": [
        {
          "output_type": "execute_result",
          "data": {
            "text/plain": [
              "array([6.05442741, 4.65664074, 3.05213352, 5.3436407 , 4.92851032,\n",
              "       4.4119365 , 5.08902817, 4.14560122, 4.59269753, 6.09577834,\n",
              "       6.06836275, 4.46867315, 4.75884637, 6.37607734, 5.00205471,\n",
              "       3.64970286, 5.50059793, 4.46434467, 8.55675608, 5.54723859,\n",
              "       3.86749201, 5.49195233, 3.88768401, 5.06024176, 7.89570996,\n",
              "       3.36365905, 6.10106807, 4.24823913, 4.00618544, 5.38767064,\n",
              "       4.3852603 , 5.00373832, 4.00334151, 3.65595952, 4.16556568,\n",
              "       4.82157808, 3.98767705, 3.96267879, 7.45148605, 4.82851727,\n",
              "       4.37155818, 6.33182562, 1.67457867, 6.21596338, 6.3993636 ,\n",
              "       3.51893835, 4.88812633, 8.21781496, 4.78284355, 6.25634737,\n",
              "       4.58092359, 6.40730387, 4.47996362, 4.77852075, 5.91405038,\n",
              "       6.79766353, 3.83282435, 6.5938381 , 5.74386881, 4.21844028,\n",
              "       6.32027923, 7.00055041, 4.42564429])"
            ]
          },
          "metadata": {},
          "execution_count": 117
        }
      ]
    },
    {
      "cell_type": "markdown",
      "source": [
        "### Decision Tree"
      ],
      "metadata": {
        "id": "_vrjLFj8OLiI"
      }
    },
    {
      "cell_type": "code",
      "source": [
        "# predicting on test dataset using decision tree\n",
        "\n",
        "y_pred_dtreg = regressor_dt_reg.predict(bodt)\n",
        "y_pred_dtreg"
      ],
      "metadata": {
        "colab": {
          "base_uri": "https://localhost:8080/",
          "height": 0
        },
        "id": "kMMtY9fSN5Ze",
        "outputId": "7bd1d737-1d3e-405d-cd27-f432d20f9369"
      },
      "execution_count": 118,
      "outputs": [
        {
          "output_type": "execute_result",
          "data": {
            "text/plain": [
              "array([5.65, 6.5 , 5.3 , 4.28, 9.  , 6.5 , 4.85, 4.7 , 6.5 , 6.4 , 6.5 ,\n",
              "       3.9 , 4.98, 8.  , 7.9 , 3.3 , 7.9 , 5.12, 9.1 , 7.9 , 3.35, 7.9 ,\n",
              "       3.35, 5.85, 8.2 , 3.93, 6.7 , 4.5 , 3.74, 7.9 , 3.9 , 7.9 , 4.7 ,\n",
              "       3.35, 3.6 , 7.9 , 4.5 , 3.35, 8.45, 5.85, 3.9 , 7.4 , 4.25, 6.9 ,\n",
              "       6.5 , 3.15, 9.  , 8.2 , 9.  , 7.4 , 6.5 , 7.4 , 6.5 , 2.1 , 5.65,\n",
              "       8.45, 4.6 , 5.6 , 6.7 , 4.5 , 6.5 , 8.45, 5.12])"
            ]
          },
          "metadata": {},
          "execution_count": 118
        }
      ]
    },
    {
      "cell_type": "markdown",
      "source": [
        "### Random Forest"
      ],
      "metadata": {
        "id": "6h2gV2FlORqm"
      }
    },
    {
      "cell_type": "code",
      "source": [
        "# predicting on test dataset using random forest\n",
        "\n",
        "y_pred_rfreg = best_regrf.predict(bodt)\n",
        "y_pred_rfreg"
      ],
      "metadata": {
        "colab": {
          "base_uri": "https://localhost:8080/",
          "height": 0
        },
        "id": "byxpZYGeOJk9",
        "outputId": "e4cac163-8ee2-404b-e48f-057c2a2f4e47"
      },
      "execution_count": 119,
      "outputs": [
        {
          "output_type": "execute_result",
          "data": {
            "text/plain": [
              "array([6.418, 4.704, 3.549, 4.704, 4.704, 4.704, 4.704, 4.704, 4.704,\n",
              "       6.418, 6.418, 4.704, 4.704, 4.704, 6.418, 3.549, 6.418, 4.704,\n",
              "       8.475, 6.418, 3.549, 5.923, 3.549, 4.704, 7.994, 3.549, 6.418,\n",
              "       4.704, 4.236, 6.418, 4.704, 5.923, 4.704, 3.549, 3.549, 5.923,\n",
              "       3.804, 3.549, 7.733, 4.704, 4.704, 6.418, 2.817, 6.418, 6.778,\n",
              "       3.549, 4.704, 7.994, 4.704, 6.418, 4.704, 6.418, 4.704, 4.704,\n",
              "       6.418, 6.778, 3.549, 6.679, 6.418, 4.236, 6.778, 6.778, 4.704])"
            ]
          },
          "metadata": {},
          "execution_count": 119
        }
      ]
    },
    {
      "cell_type": "markdown",
      "source": [
        "### XGB"
      ],
      "metadata": {
        "id": "iTpdsU3MOVg6"
      }
    },
    {
      "cell_type": "code",
      "source": [
        "# predicting on test dataset using xgb\n",
        "\n",
        "y_pred_xgbreg = best_regxgb.predict(bodt)\n",
        "y_pred_xgbreg"
      ],
      "metadata": {
        "colab": {
          "base_uri": "https://localhost:8080/",
          "height": 0
        },
        "id": "OQJZhfKkOXml",
        "outputId": "68cba530-f293-4257-9c85-7be01eec2a7b"
      },
      "execution_count": 120,
      "outputs": [
        {
          "output_type": "execute_result",
          "data": {
            "text/plain": [
              "array([6.591587 , 4.6185727, 3.0370615, 4.3266363, 5.6039686, 4.9020696,\n",
              "       4.6185727, 4.5624604, 4.9105587, 6.3832884, 5.606191 , 5.25587  ,\n",
              "       4.6185727, 5.631333 , 5.063722 , 3.6592693, 5.180384 , 5.25587  ,\n",
              "       7.2377753, 4.6448283, 3.5228403, 4.3266363, 4.328202 , 5.1755486,\n",
              "       7.2377753, 3.490658 , 6.1931443, 4.5624604, 4.2704744, 5.180384 ,\n",
              "       5.6964865, 4.9105587, 4.397432 , 2.902189 , 3.6792865, 4.74553  ,\n",
              "       3.532312 , 3.532312 , 7.210411 , 4.3181467, 4.891125 , 6.3832884,\n",
              "       2.4854817, 5.3142548, 7.210411 , 3.6592693, 5.6039686, 7.2377753,\n",
              "       5.595479 , 6.3832884, 4.6100836, 6.3832884, 4.6100836, 3.9785376,\n",
              "       5.6275353, 6.845666 , 3.824298 , 6.6189513, 5.713862 , 5.25587  ,\n",
              "       7.6510277, 7.0021124, 5.25587  ], dtype=float32)"
            ]
          },
          "metadata": {},
          "execution_count": 120
        }
      ]
    }
  ]
}